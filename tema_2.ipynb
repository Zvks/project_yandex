{
 "cells": [
  {
   "cell_type": "code",
   "execution_count": 9,
   "id": "9864b296",
   "metadata": {},
   "outputs": [],
   "source": [
    "import pandas as pd\n",
    "import numpy as np\n",
    "import matplotlib.pyplot as plt\n",
    "import seaborn as sns"
   ]
  },
  {
   "cell_type": "code",
   "execution_count": 10,
   "id": "cb1fbdf7-0fdb-492e-9528-9518e0bb9b17",
   "metadata": {},
   "outputs": [
    {
     "name": "stdout",
     "output_type": "stream",
     "text": [
      "Requirement already satisfied: seaborn in c:\\projects\\project_yandex\\.venv\\lib\\site-packages (0.13.2)\n",
      "Requirement already satisfied: numpy!=1.24.0,>=1.20 in c:\\projects\\project_yandex\\.venv\\lib\\site-packages (from seaborn) (2.2.2)\n",
      "Requirement already satisfied: pandas>=1.2 in c:\\projects\\project_yandex\\.venv\\lib\\site-packages (from seaborn) (2.2.3)\n",
      "Requirement already satisfied: matplotlib!=3.6.1,>=3.4 in c:\\projects\\project_yandex\\.venv\\lib\\site-packages (from seaborn) (3.10.0)\n",
      "Requirement already satisfied: contourpy>=1.0.1 in c:\\projects\\project_yandex\\.venv\\lib\\site-packages (from matplotlib!=3.6.1,>=3.4->seaborn) (1.3.1)\n",
      "Requirement already satisfied: cycler>=0.10 in c:\\projects\\project_yandex\\.venv\\lib\\site-packages (from matplotlib!=3.6.1,>=3.4->seaborn) (0.12.1)\n",
      "Requirement already satisfied: fonttools>=4.22.0 in c:\\projects\\project_yandex\\.venv\\lib\\site-packages (from matplotlib!=3.6.1,>=3.4->seaborn) (4.56.0)\n",
      "Requirement already satisfied: kiwisolver>=1.3.1 in c:\\projects\\project_yandex\\.venv\\lib\\site-packages (from matplotlib!=3.6.1,>=3.4->seaborn) (1.4.8)\n",
      "Requirement already satisfied: packaging>=20.0 in c:\\projects\\project_yandex\\.venv\\lib\\site-packages (from matplotlib!=3.6.1,>=3.4->seaborn) (24.2)\n",
      "Requirement already satisfied: pillow>=8 in c:\\projects\\project_yandex\\.venv\\lib\\site-packages (from matplotlib!=3.6.1,>=3.4->seaborn) (11.1.0)\n",
      "Requirement already satisfied: pyparsing>=2.3.1 in c:\\projects\\project_yandex\\.venv\\lib\\site-packages (from matplotlib!=3.6.1,>=3.4->seaborn) (3.2.1)\n",
      "Requirement already satisfied: python-dateutil>=2.7 in c:\\projects\\project_yandex\\.venv\\lib\\site-packages (from matplotlib!=3.6.1,>=3.4->seaborn) (2.9.0.post0)\n",
      "Requirement already satisfied: pytz>=2020.1 in c:\\projects\\project_yandex\\.venv\\lib\\site-packages (from pandas>=1.2->seaborn) (2025.1)\n",
      "Requirement already satisfied: tzdata>=2022.7 in c:\\projects\\project_yandex\\.venv\\lib\\site-packages (from pandas>=1.2->seaborn) (2025.1)\n",
      "Requirement already satisfied: six>=1.5 in c:\\projects\\project_yandex\\.venv\\lib\\site-packages (from python-dateutil>=2.7->matplotlib!=3.6.1,>=3.4->seaborn) (1.17.0)\n",
      "Note: you may need to restart the kernel to use updated packages.\n"
     ]
    },
    {
     "name": "stderr",
     "output_type": "stream",
     "text": [
      "WARNING: Ignoring invalid distribution ~otebook (c:\\projects\\project_yandex\\.venv\\Lib\\site-packages)\n",
      "WARNING: Ignoring invalid distribution ~otebook (c:\\projects\\project_yandex\\.venv\\Lib\\site-packages)\n",
      "WARNING: Ignoring invalid distribution ~otebook (c:\\projects\\project_yandex\\.venv\\Lib\\site-packages)\n"
     ]
    }
   ],
   "source": [
    "pip install seaborn"
   ]
  },
  {
   "cell_type": "code",
   "execution_count": 11,
   "id": "559058b9",
   "metadata": {},
   "outputs": [],
   "source": [
    "import warnings\n",
    "warnings.filterwarnings('ignore')"
   ]
  },
  {
   "cell_type": "markdown",
   "id": "c1dcacbe",
   "metadata": {},
   "source": [
    "## Задача 1"
   ]
  },
  {
   "cell_type": "markdown",
   "id": "28688417",
   "metadata": {},
   "source": [
    "Необходимо сделать:\n",
    "\n",
    "1) Перевести название колонок в стандарт PEP8:\n",
    "- перевести в нижний регистр\n",
    "- пробелы между словами заменить на _\n",
    "- язык сохранить - кириллица\n",
    "\n",
    "2) Рассчитать основные статистики для категориальных данных с помощью функции describe().\n",
    "\n",
    "3) На экран вывести результат в виде таблицы DataFrame. Индексами сделать названия факторов."
   ]
  },
  {
   "cell_type": "code",
   "execution_count": null,
   "id": "b41f947c",
   "metadata": {},
   "outputs": [],
   "source": [
    "PATH_OUT = r'C:\\Users\\Dell\\Desktop\\MyPython\\Yandex.Practica\\ПРЕДЛОЖЕНИЯ\\Школьники\\Работа_над_материалами\\Тема_2'"
   ]
  },
  {
   "cell_type": "code",
   "execution_count": 12,
   "id": "1f8befc3",
   "metadata": {},
   "outputs": [
    {
     "data": {
      "text/plain": [
       "(1300, 14)"
      ]
     },
     "execution_count": 12,
     "metadata": {},
     "output_type": "execute_result"
    }
   ],
   "source": [
    "df1 = pd.read_csv('upload.csv',sep=',', encoding='cp1251', skipinitialspace=True)\n",
    "df = df1.dropna()  # удалили строки с пропусками\n",
    "df.shape"
   ]
  },
  {
   "cell_type": "code",
   "execution_count": 13,
   "id": "ded7c44b",
   "metadata": {},
   "outputs": [
    {
     "data": {
      "text/html": [
       "<div>\n",
       "<style scoped>\n",
       "    .dataframe tbody tr th:only-of-type {\n",
       "        vertical-align: middle;\n",
       "    }\n",
       "\n",
       "    .dataframe tbody tr th {\n",
       "        vertical-align: top;\n",
       "    }\n",
       "\n",
       "    .dataframe thead th {\n",
       "        text-align: right;\n",
       "    }\n",
       "</style>\n",
       "<table border=\"1\" class=\"dataframe\">\n",
       "  <thead>\n",
       "    <tr style=\"text-align: right;\">\n",
       "      <th></th>\n",
       "      <th>Покупательская активность</th>\n",
       "      <th>Тип сервиса</th>\n",
       "      <th>Разрешить сообщать</th>\n",
       "      <th>Маркет_актив_6_мес</th>\n",
       "      <th>Длительность</th>\n",
       "      <th>Акционные_покупки</th>\n",
       "      <th>Популярная_категория</th>\n",
       "      <th>Средний_просмотр_категорий_за_визит</th>\n",
       "      <th>Выручка_от_клиента_текущий_месяц</th>\n",
       "      <th>Разность_выручки_тек_прошлый_месяц</th>\n",
       "      <th>Ошибка_сервиса</th>\n",
       "      <th>Страниц_за_визит</th>\n",
       "      <th>Всего_минут_текущем_месяце</th>\n",
       "      <th>Всего_минут_предыдущий_месяц</th>\n",
       "    </tr>\n",
       "  </thead>\n",
       "  <tbody>\n",
       "    <tr>\n",
       "      <th>0</th>\n",
       "      <td>Снизилась</td>\n",
       "      <td>стандарт</td>\n",
       "      <td>да</td>\n",
       "      <td>2</td>\n",
       "      <td>717</td>\n",
       "      <td>0.22</td>\n",
       "      <td>Техника для красоты и здоровья</td>\n",
       "      <td>2</td>\n",
       "      <td>4425</td>\n",
       "      <td>-605</td>\n",
       "      <td>1</td>\n",
       "      <td>5</td>\n",
       "      <td>14</td>\n",
       "      <td>13</td>\n",
       "    </tr>\n",
       "    <tr>\n",
       "      <th>1</th>\n",
       "      <td>Снизилась</td>\n",
       "      <td>стандарт</td>\n",
       "      <td>да</td>\n",
       "      <td>2</td>\n",
       "      <td>917</td>\n",
       "      <td>0.99</td>\n",
       "      <td>Домашний текстиль</td>\n",
       "      <td>3</td>\n",
       "      <td>4472</td>\n",
       "      <td>-496</td>\n",
       "      <td>2</td>\n",
       "      <td>5</td>\n",
       "      <td>12</td>\n",
       "      <td>10</td>\n",
       "    </tr>\n",
       "    <tr>\n",
       "      <th>2</th>\n",
       "      <td>Снизилась</td>\n",
       "      <td>стандарт</td>\n",
       "      <td>нет</td>\n",
       "      <td>3</td>\n",
       "      <td>369</td>\n",
       "      <td>0.24</td>\n",
       "      <td>Мелкая бытовая техника и электроника</td>\n",
       "      <td>1</td>\n",
       "      <td>4826</td>\n",
       "      <td>-421</td>\n",
       "      <td>1</td>\n",
       "      <td>5</td>\n",
       "      <td>13</td>\n",
       "      <td>8</td>\n",
       "    </tr>\n",
       "  </tbody>\n",
       "</table>\n",
       "</div>"
      ],
      "text/plain": [
       "  Покупательская активность Тип сервиса Разрешить сообщать  \\\n",
       "0                 Снизилась    стандарт                 да   \n",
       "1                 Снизилась    стандарт                 да   \n",
       "2                 Снизилась    стандарт                нет   \n",
       "\n",
       "   Маркет_актив_6_мес  Длительность  Акционные_покупки  \\\n",
       "0                   2           717               0.22   \n",
       "1                   2           917               0.99   \n",
       "2                   3           369               0.24   \n",
       "\n",
       "                   Популярная_категория  Средний_просмотр_категорий_за_визит  \\\n",
       "0        Техника для красоты и здоровья                                    2   \n",
       "1                     Домашний текстиль                                    3   \n",
       "2  Мелкая бытовая техника и электроника                                    1   \n",
       "\n",
       "   Выручка_от_клиента_текущий_месяц  Разность_выручки_тек_прошлый_месяц  \\\n",
       "0                              4425                                -605   \n",
       "1                              4472                                -496   \n",
       "2                              4826                                -421   \n",
       "\n",
       "   Ошибка_сервиса  Страниц_за_визит  Всего_минут_текущем_месяце  \\\n",
       "0               1                 5                          14   \n",
       "1               2                 5                          12   \n",
       "2               1                 5                          13   \n",
       "\n",
       "   Всего_минут_предыдущий_месяц  \n",
       "0                            13  \n",
       "1                            10  \n",
       "2                             8  "
      ]
     },
     "execution_count": 13,
     "metadata": {},
     "output_type": "execute_result"
    }
   ],
   "source": [
    "df.head(3)"
   ]
  },
  {
   "cell_type": "code",
   "execution_count": 14,
   "id": "11b42ebd",
   "metadata": {},
   "outputs": [],
   "source": [
    "df.columns = df.columns.str.lower().str.replace(' ', '_')"
   ]
  },
  {
   "cell_type": "code",
   "execution_count": 15,
   "id": "05a88ab1",
   "metadata": {},
   "outputs": [
    {
     "data": {
      "text/html": [
       "<div>\n",
       "<style scoped>\n",
       "    .dataframe tbody tr th:only-of-type {\n",
       "        vertical-align: middle;\n",
       "    }\n",
       "\n",
       "    .dataframe tbody tr th {\n",
       "        vertical-align: top;\n",
       "    }\n",
       "\n",
       "    .dataframe thead th {\n",
       "        text-align: right;\n",
       "    }\n",
       "</style>\n",
       "<table border=\"1\" class=\"dataframe\">\n",
       "  <thead>\n",
       "    <tr style=\"text-align: right;\">\n",
       "      <th></th>\n",
       "      <th>покупательская_активность</th>\n",
       "      <th>тип_сервиса</th>\n",
       "      <th>разрешить_сообщать</th>\n",
       "      <th>маркет_актив_6_мес</th>\n",
       "      <th>длительность</th>\n",
       "      <th>акционные_покупки</th>\n",
       "      <th>популярная_категория</th>\n",
       "      <th>средний_просмотр_категорий_за_визит</th>\n",
       "      <th>выручка_от_клиента_текущий_месяц</th>\n",
       "      <th>разность_выручки_тек_прошлый_месяц</th>\n",
       "      <th>ошибка_сервиса</th>\n",
       "      <th>страниц_за_визит</th>\n",
       "      <th>всего_минут_текущем_месяце</th>\n",
       "      <th>всего_минут_предыдущий_месяц</th>\n",
       "    </tr>\n",
       "  </thead>\n",
       "  <tbody>\n",
       "    <tr>\n",
       "      <th>0</th>\n",
       "      <td>Снизилась</td>\n",
       "      <td>стандарт</td>\n",
       "      <td>да</td>\n",
       "      <td>2</td>\n",
       "      <td>717</td>\n",
       "      <td>0.22</td>\n",
       "      <td>Техника для красоты и здоровья</td>\n",
       "      <td>2</td>\n",
       "      <td>4425</td>\n",
       "      <td>-605</td>\n",
       "      <td>1</td>\n",
       "      <td>5</td>\n",
       "      <td>14</td>\n",
       "      <td>13</td>\n",
       "    </tr>\n",
       "    <tr>\n",
       "      <th>1</th>\n",
       "      <td>Снизилась</td>\n",
       "      <td>стандарт</td>\n",
       "      <td>да</td>\n",
       "      <td>2</td>\n",
       "      <td>917</td>\n",
       "      <td>0.99</td>\n",
       "      <td>Домашний текстиль</td>\n",
       "      <td>3</td>\n",
       "      <td>4472</td>\n",
       "      <td>-496</td>\n",
       "      <td>2</td>\n",
       "      <td>5</td>\n",
       "      <td>12</td>\n",
       "      <td>10</td>\n",
       "    </tr>\n",
       "    <tr>\n",
       "      <th>2</th>\n",
       "      <td>Снизилась</td>\n",
       "      <td>стандарт</td>\n",
       "      <td>нет</td>\n",
       "      <td>3</td>\n",
       "      <td>369</td>\n",
       "      <td>0.24</td>\n",
       "      <td>Мелкая бытовая техника и электроника</td>\n",
       "      <td>1</td>\n",
       "      <td>4826</td>\n",
       "      <td>-421</td>\n",
       "      <td>1</td>\n",
       "      <td>5</td>\n",
       "      <td>13</td>\n",
       "      <td>8</td>\n",
       "    </tr>\n",
       "  </tbody>\n",
       "</table>\n",
       "</div>"
      ],
      "text/plain": [
       "  покупательская_активность тип_сервиса разрешить_сообщать  \\\n",
       "0                 Снизилась    стандарт                 да   \n",
       "1                 Снизилась    стандарт                 да   \n",
       "2                 Снизилась    стандарт                нет   \n",
       "\n",
       "   маркет_актив_6_мес  длительность  акционные_покупки  \\\n",
       "0                   2           717               0.22   \n",
       "1                   2           917               0.99   \n",
       "2                   3           369               0.24   \n",
       "\n",
       "                   популярная_категория  средний_просмотр_категорий_за_визит  \\\n",
       "0        Техника для красоты и здоровья                                    2   \n",
       "1                     Домашний текстиль                                    3   \n",
       "2  Мелкая бытовая техника и электроника                                    1   \n",
       "\n",
       "   выручка_от_клиента_текущий_месяц  разность_выручки_тек_прошлый_месяц  \\\n",
       "0                              4425                                -605   \n",
       "1                              4472                                -496   \n",
       "2                              4826                                -421   \n",
       "\n",
       "   ошибка_сервиса  страниц_за_визит  всего_минут_текущем_месяце  \\\n",
       "0               1                 5                          14   \n",
       "1               2                 5                          12   \n",
       "2               1                 5                          13   \n",
       "\n",
       "   всего_минут_предыдущий_месяц  \n",
       "0                            13  \n",
       "1                            10  \n",
       "2                             8  "
      ]
     },
     "execution_count": 15,
     "metadata": {},
     "output_type": "execute_result"
    }
   ],
   "source": [
    "df.head(3)"
   ]
  },
  {
   "cell_type": "code",
   "execution_count": 16,
   "id": "d459321c",
   "metadata": {},
   "outputs": [
    {
     "data": {
      "text/html": [
       "<div>\n",
       "<style scoped>\n",
       "    .dataframe tbody tr th:only-of-type {\n",
       "        vertical-align: middle;\n",
       "    }\n",
       "\n",
       "    .dataframe tbody tr th {\n",
       "        vertical-align: top;\n",
       "    }\n",
       "\n",
       "    .dataframe thead th {\n",
       "        text-align: right;\n",
       "    }\n",
       "</style>\n",
       "<table border=\"1\" class=\"dataframe\">\n",
       "  <thead>\n",
       "    <tr style=\"text-align: right;\">\n",
       "      <th></th>\n",
       "      <th>маркет_актив_6_мес</th>\n",
       "      <th>длительность</th>\n",
       "      <th>акционные_покупки</th>\n",
       "      <th>средний_просмотр_категорий_за_визит</th>\n",
       "      <th>выручка_от_клиента_текущий_месяц</th>\n",
       "      <th>разность_выручки_тек_прошлый_месяц</th>\n",
       "      <th>ошибка_сервиса</th>\n",
       "      <th>страниц_за_визит</th>\n",
       "      <th>всего_минут_текущем_месяце</th>\n",
       "      <th>всего_минут_предыдущий_месяц</th>\n",
       "    </tr>\n",
       "  </thead>\n",
       "  <tbody>\n",
       "    <tr>\n",
       "      <th>count</th>\n",
       "      <td>1300.000000</td>\n",
       "      <td>1300.000000</td>\n",
       "      <td>1300.000000</td>\n",
       "      <td>1300.000000</td>\n",
       "      <td>1300.000000</td>\n",
       "      <td>1300.000000</td>\n",
       "      <td>1300.000000</td>\n",
       "      <td>1300.000000</td>\n",
       "      <td>1300.000000</td>\n",
       "      <td>1300.000000</td>\n",
       "    </tr>\n",
       "    <tr>\n",
       "      <th>mean</th>\n",
       "      <td>4.262308</td>\n",
       "      <td>602.316154</td>\n",
       "      <td>0.355946</td>\n",
       "      <td>3.332308</td>\n",
       "      <td>4831.629231</td>\n",
       "      <td>-230.209231</td>\n",
       "      <td>4.176923</td>\n",
       "      <td>8.080000</td>\n",
       "      <td>13.123077</td>\n",
       "      <td>13.386923</td>\n",
       "    </tr>\n",
       "    <tr>\n",
       "      <th>std</th>\n",
       "      <td>1.106198</td>\n",
       "      <td>248.293912</td>\n",
       "      <td>0.284203</td>\n",
       "      <td>1.336537</td>\n",
       "      <td>331.405388</td>\n",
       "      <td>391.962582</td>\n",
       "      <td>1.951156</td>\n",
       "      <td>3.980484</td>\n",
       "      <td>4.212806</td>\n",
       "      <td>3.930338</td>\n",
       "    </tr>\n",
       "    <tr>\n",
       "      <th>min</th>\n",
       "      <td>1.000000</td>\n",
       "      <td>121.000000</td>\n",
       "      <td>0.110000</td>\n",
       "      <td>1.000000</td>\n",
       "      <td>4098.000000</td>\n",
       "      <td>-1378.000000</td>\n",
       "      <td>0.000000</td>\n",
       "      <td>1.000000</td>\n",
       "      <td>4.000000</td>\n",
       "      <td>5.000000</td>\n",
       "    </tr>\n",
       "    <tr>\n",
       "      <th>25%</th>\n",
       "      <td>4.000000</td>\n",
       "      <td>410.000000</td>\n",
       "      <td>0.170000</td>\n",
       "      <td>2.000000</td>\n",
       "      <td>4583.000000</td>\n",
       "      <td>-515.000000</td>\n",
       "      <td>3.000000</td>\n",
       "      <td>5.000000</td>\n",
       "      <td>10.000000</td>\n",
       "      <td>10.000000</td>\n",
       "    </tr>\n",
       "    <tr>\n",
       "      <th>50%</th>\n",
       "      <td>4.000000</td>\n",
       "      <td>603.000000</td>\n",
       "      <td>0.250000</td>\n",
       "      <td>3.000000</td>\n",
       "      <td>4802.000000</td>\n",
       "      <td>-226.000000</td>\n",
       "      <td>4.000000</td>\n",
       "      <td>8.000000</td>\n",
       "      <td>13.000000</td>\n",
       "      <td>13.000000</td>\n",
       "    </tr>\n",
       "    <tr>\n",
       "      <th>75%</th>\n",
       "      <td>5.000000</td>\n",
       "      <td>797.250000</td>\n",
       "      <td>0.330000</td>\n",
       "      <td>4.000000</td>\n",
       "      <td>5045.000000</td>\n",
       "      <td>53.250000</td>\n",
       "      <td>6.000000</td>\n",
       "      <td>11.000000</td>\n",
       "      <td>16.000000</td>\n",
       "      <td>16.000000</td>\n",
       "    </tr>\n",
       "    <tr>\n",
       "      <th>max</th>\n",
       "      <td>7.000000</td>\n",
       "      <td>1079.000000</td>\n",
       "      <td>0.990000</td>\n",
       "      <td>6.000000</td>\n",
       "      <td>5663.000000</td>\n",
       "      <td>698.000000</td>\n",
       "      <td>9.000000</td>\n",
       "      <td>20.000000</td>\n",
       "      <td>23.000000</td>\n",
       "      <td>23.000000</td>\n",
       "    </tr>\n",
       "  </tbody>\n",
       "</table>\n",
       "</div>"
      ],
      "text/plain": [
       "       маркет_актив_6_мес  длительность  акционные_покупки  \\\n",
       "count         1300.000000   1300.000000        1300.000000   \n",
       "mean             4.262308    602.316154           0.355946   \n",
       "std              1.106198    248.293912           0.284203   \n",
       "min              1.000000    121.000000           0.110000   \n",
       "25%              4.000000    410.000000           0.170000   \n",
       "50%              4.000000    603.000000           0.250000   \n",
       "75%              5.000000    797.250000           0.330000   \n",
       "max              7.000000   1079.000000           0.990000   \n",
       "\n",
       "       средний_просмотр_категорий_за_визит  выручка_от_клиента_текущий_месяц  \\\n",
       "count                          1300.000000                       1300.000000   \n",
       "mean                              3.332308                       4831.629231   \n",
       "std                               1.336537                        331.405388   \n",
       "min                               1.000000                       4098.000000   \n",
       "25%                               2.000000                       4583.000000   \n",
       "50%                               3.000000                       4802.000000   \n",
       "75%                               4.000000                       5045.000000   \n",
       "max                               6.000000                       5663.000000   \n",
       "\n",
       "       разность_выручки_тек_прошлый_месяц  ошибка_сервиса  страниц_за_визит  \\\n",
       "count                         1300.000000     1300.000000       1300.000000   \n",
       "mean                          -230.209231        4.176923          8.080000   \n",
       "std                            391.962582        1.951156          3.980484   \n",
       "min                          -1378.000000        0.000000          1.000000   \n",
       "25%                           -515.000000        3.000000          5.000000   \n",
       "50%                           -226.000000        4.000000          8.000000   \n",
       "75%                             53.250000        6.000000         11.000000   \n",
       "max                            698.000000        9.000000         20.000000   \n",
       "\n",
       "       всего_минут_текущем_месяце  всего_минут_предыдущий_месяц  \n",
       "count                 1300.000000                   1300.000000  \n",
       "mean                    13.123077                     13.386923  \n",
       "std                      4.212806                      3.930338  \n",
       "min                      4.000000                      5.000000  \n",
       "25%                     10.000000                     10.000000  \n",
       "50%                     13.000000                     13.000000  \n",
       "75%                     16.000000                     16.000000  \n",
       "max                     23.000000                     23.000000  "
      ]
     },
     "execution_count": 16,
     "metadata": {},
     "output_type": "execute_result"
    }
   ],
   "source": [
    "df.describe()"
   ]
  },
  {
   "cell_type": "markdown",
   "id": "15cdef64",
   "metadata": {},
   "source": [
    "### дополнительные инструменты"
   ]
  },
  {
   "cell_type": "code",
   "execution_count": 17,
   "id": "7fe21273",
   "metadata": {},
   "outputs": [],
   "source": [
    "coumns_cat = df.select_dtypes(include=[object]).columns"
   ]
  },
  {
   "cell_type": "code",
   "execution_count": 18,
   "id": "616624c3",
   "metadata": {},
   "outputs": [
    {
     "data": {
      "text/plain": [
       "Index(['покупательская_активность', 'тип_сервиса', 'разрешить_сообщать',\n",
       "       'популярная_категория'],\n",
       "      dtype='object')"
      ]
     },
     "execution_count": 18,
     "metadata": {},
     "output_type": "execute_result"
    }
   ],
   "source": [
    "coumns_cat"
   ]
  },
  {
   "cell_type": "code",
   "execution_count": 19,
   "id": "860a0f66",
   "metadata": {},
   "outputs": [
    {
     "data": {
      "text/html": [
       "<div>\n",
       "<style scoped>\n",
       "    .dataframe tbody tr th:only-of-type {\n",
       "        vertical-align: middle;\n",
       "    }\n",
       "\n",
       "    .dataframe tbody tr th {\n",
       "        vertical-align: top;\n",
       "    }\n",
       "\n",
       "    .dataframe thead th {\n",
       "        text-align: right;\n",
       "    }\n",
       "</style>\n",
       "<table border=\"1\" class=\"dataframe\">\n",
       "  <thead>\n",
       "    <tr style=\"text-align: right;\">\n",
       "      <th></th>\n",
       "      <th>маркет_актив_6_мес</th>\n",
       "      <th>длительность</th>\n",
       "      <th>акционные_покупки</th>\n",
       "      <th>средний_просмотр_категорий_за_визит</th>\n",
       "      <th>выручка_от_клиента_текущий_месяц</th>\n",
       "      <th>разность_выручки_тек_прошлый_месяц</th>\n",
       "      <th>ошибка_сервиса</th>\n",
       "      <th>страниц_за_визит</th>\n",
       "      <th>всего_минут_текущем_месяце</th>\n",
       "      <th>всего_минут_предыдущий_месяц</th>\n",
       "    </tr>\n",
       "  </thead>\n",
       "  <tbody>\n",
       "    <tr>\n",
       "      <th>0</th>\n",
       "      <td>2</td>\n",
       "      <td>717</td>\n",
       "      <td>0.22</td>\n",
       "      <td>2</td>\n",
       "      <td>4425</td>\n",
       "      <td>-605</td>\n",
       "      <td>1</td>\n",
       "      <td>5</td>\n",
       "      <td>14</td>\n",
       "      <td>13</td>\n",
       "    </tr>\n",
       "    <tr>\n",
       "      <th>1</th>\n",
       "      <td>2</td>\n",
       "      <td>917</td>\n",
       "      <td>0.99</td>\n",
       "      <td>3</td>\n",
       "      <td>4472</td>\n",
       "      <td>-496</td>\n",
       "      <td>2</td>\n",
       "      <td>5</td>\n",
       "      <td>12</td>\n",
       "      <td>10</td>\n",
       "    </tr>\n",
       "    <tr>\n",
       "      <th>2</th>\n",
       "      <td>3</td>\n",
       "      <td>369</td>\n",
       "      <td>0.24</td>\n",
       "      <td>1</td>\n",
       "      <td>4826</td>\n",
       "      <td>-421</td>\n",
       "      <td>1</td>\n",
       "      <td>5</td>\n",
       "      <td>13</td>\n",
       "      <td>8</td>\n",
       "    </tr>\n",
       "  </tbody>\n",
       "</table>\n",
       "</div>"
      ],
      "text/plain": [
       "   маркет_актив_6_мес  длительность  акционные_покупки  \\\n",
       "0                   2           717               0.22   \n",
       "1                   2           917               0.99   \n",
       "2                   3           369               0.24   \n",
       "\n",
       "   средний_просмотр_категорий_за_визит  выручка_от_клиента_текущий_месяц  \\\n",
       "0                                    2                              4425   \n",
       "1                                    3                              4472   \n",
       "2                                    1                              4826   \n",
       "\n",
       "   разность_выручки_тек_прошлый_месяц  ошибка_сервиса  страниц_за_визит  \\\n",
       "0                                -605               1                 5   \n",
       "1                                -496               2                 5   \n",
       "2                                -421               1                 5   \n",
       "\n",
       "   всего_минут_текущем_месяце  всего_минут_предыдущий_месяц  \n",
       "0                          14                            13  \n",
       "1                          12                            10  \n",
       "2                          13                             8  "
      ]
     },
     "execution_count": 19,
     "metadata": {},
     "output_type": "execute_result"
    }
   ],
   "source": [
    "df.select_dtypes(exclude=[object]).head(3)"
   ]
  },
  {
   "cell_type": "code",
   "execution_count": 30,
   "id": "bec28cf0",
   "metadata": {},
   "outputs": [
    {
     "data": {
      "text/html": [
       "<div>\n",
       "<style scoped>\n",
       "    .dataframe tbody tr th:only-of-type {\n",
       "        vertical-align: middle;\n",
       "    }\n",
       "\n",
       "    .dataframe tbody tr th {\n",
       "        vertical-align: top;\n",
       "    }\n",
       "\n",
       "    .dataframe thead th {\n",
       "        text-align: right;\n",
       "    }\n",
       "</style>\n",
       "<table border=\"1\" class=\"dataframe\">\n",
       "  <thead>\n",
       "    <tr style=\"text-align: right;\">\n",
       "      <th></th>\n",
       "      <th>count</th>\n",
       "      <th>unique</th>\n",
       "      <th>top</th>\n",
       "      <th>freq</th>\n",
       "    </tr>\n",
       "  </thead>\n",
       "  <tbody>\n",
       "    <tr>\n",
       "      <th>покупательская_активность</th>\n",
       "      <td>1300</td>\n",
       "      <td>2</td>\n",
       "      <td>Прежний уровень</td>\n",
       "      <td>900</td>\n",
       "    </tr>\n",
       "    <tr>\n",
       "      <th>тип_сервиса</th>\n",
       "      <td>1300</td>\n",
       "      <td>2</td>\n",
       "      <td>стандарт</td>\n",
       "      <td>916</td>\n",
       "    </tr>\n",
       "    <tr>\n",
       "      <th>разрешить_сообщать</th>\n",
       "      <td>1300</td>\n",
       "      <td>2</td>\n",
       "      <td>да</td>\n",
       "      <td>967</td>\n",
       "    </tr>\n",
       "    <tr>\n",
       "      <th>популярная_категория</th>\n",
       "      <td>1300</td>\n",
       "      <td>6</td>\n",
       "      <td>Товары для детей</td>\n",
       "      <td>267</td>\n",
       "    </tr>\n",
       "  </tbody>\n",
       "</table>\n",
       "</div>"
      ],
      "text/plain": [
       "                          count unique               top freq\n",
       "покупательская_активность  1300      2   Прежний уровень  900\n",
       "тип_сервиса                1300      2          стандарт  916\n",
       "разрешить_сообщать         1300      2                да  967\n",
       "популярная_категория       1300      6  Товары для детей  267"
      ]
     },
     "execution_count": 30,
     "metadata": {},
     "output_type": "execute_result"
    }
   ],
   "source": [
    "pd.DataFrame(df.describe(include=[object])).transpose()"
   ]
  },
  {
   "cell_type": "markdown",
   "id": "53a0f5bb",
   "metadata": {},
   "source": [
    "## Задача 2"
   ]
  },
  {
   "cell_type": "markdown",
   "id": "5e9f3e14",
   "metadata": {},
   "source": [
    "Необходимо сделать:\n",
    "\n",
    "\n",
    "1) Перевести название колонок в стандарт PEP8:\n",
    "- перевести в нижний регистр\n",
    "- пробелы между словами заменить на _\n",
    "- язык сохранить - кириллица\n",
    "\n",
    "3) Рассчитать основные статистики для фактора \"разность_выручки_тек_прошлый_месяц\" с помощью функции describe(). При этом расчёт произвести по группам фактора \"покупательская_активность.\"\n",
    "\n",
    "3) На экран вывести результат в виде таблицы DataFrame. Перевести в целочисленный тип."
   ]
  },
  {
   "cell_type": "code",
   "execution_count": 4,
   "id": "51bc0687",
   "metadata": {},
   "outputs": [
    {
     "data": {
      "text/plain": [
       "(1300, 14)"
      ]
     },
     "execution_count": 4,
     "metadata": {},
     "output_type": "execute_result"
    }
   ],
   "source": [
    "df1 = pd.read_csv(PATH_OUT + '\\\\market_csv.csv',sep=',', encoding='cp1251', skipinitialspace=True)\n",
    "df = df1.dropna()  # удалили строки с пропусками\n",
    "df.shape"
   ]
  },
  {
   "cell_type": "code",
   "execution_count": null,
   "id": "60b0cca1",
   "metadata": {},
   "outputs": [],
   "source": []
  },
  {
   "cell_type": "code",
   "execution_count": null,
   "id": "45f4816b",
   "metadata": {},
   "outputs": [],
   "source": []
  },
  {
   "cell_type": "markdown",
   "id": "43199caa",
   "metadata": {},
   "source": [
    "## Задача 3"
   ]
  },
  {
   "cell_type": "markdown",
   "id": "d4c6593f",
   "metadata": {},
   "source": [
    "Необходимо:\n",
    "1) Перевести название колонок в стандарт PEP8:\n",
    "- перевести в нижний регистр\n",
    "- пробелы между словами заменить на _\n",
    "- язык сохранить - кириллица\n",
    "\n",
    "2) Построить простую гистограмму, не изменяя настройки по умолчанию, по столбцу, название которого вводится. Гарантируется, что будет введено название столбца с числовым типом.\n",
    "Сохраните гистограмму в файл target_2_3.png."
   ]
  },
  {
   "cell_type": "code",
   "execution_count": 19,
   "id": "f3c26240",
   "metadata": {},
   "outputs": [
    {
     "data": {
      "image/png": "[encoded data removed]",
      "text/plain": [
       "<Figure size 640x480 with 1 Axes>"
      ]
     },
     "metadata": {},
     "output_type": "display_data"
    }
   ],
   "source": [
    "df.hist(column='выручка_от_клиента_текущий_месяц')\n",
    "\n",
    "# plt.savefig('target_2_3.png')\n",
    "plt.show()"
   ]
  },
  {
   "cell_type": "code",
   "execution_count": 18,
   "id": "de39bd89",
   "metadata": {},
   "outputs": [
    {
     "data": {
      "image/png": "[encoded data removed]",
      "text/plain": [
       "<Figure size 640x480 with 1 Axes>"
      ]
     },
     "metadata": {},
     "output_type": "display_data"
    }
   ],
   "source": [
    "plt.hist(df['выручка_от_клиента_текущий_месяц'])\n",
    "plt.show()"
   ]
  },
  {
   "cell_type": "markdown",
   "id": "0efcf1f0",
   "metadata": {},
   "source": [
    "### Задача 4"
   ]
  },
  {
   "cell_type": "markdown",
   "id": "10817e53",
   "metadata": {},
   "source": [
    "Необходимо:\n",
    "1) Перевести название колонок в стандарт PEP8:\n",
    "- перевести в нижний регистр\n",
    "- пробелы между словами заменить на _\n",
    "- язык сохранить - кириллица\n",
    "\n",
    "2) Построить график плотности вероятности для факторов в количественной шкале с использованием библиотеки seaborn. При построении учесть:\n",
    "\n",
    "построить график по столбцу, название которого вводится\n",
    "на одном графике строить плотности вероятности по каждой группе из фактора покупательская_активность\n",
    "Настроить только один параметр: наличие цветности под кривой плотности. А сами цвета - оставить по умолчанию\n",
    "\n",
    "Сохраните гистограмму в файл target_2_4.png."
   ]
  },
  {
   "cell_type": "code",
   "execution_count": 4,
   "id": "3b6c4e45",
   "metadata": {},
   "outputs": [
    {
     "name": "stdout",
     "output_type": "stream",
     "text": [
      "Выручка_от_клиента_текущий_месяц\n"
     ]
    },
    {
     "data": {
      "image/png": "[encoded data removed]",
      "text/plain": [
       "<Figure size 640x480 with 1 Axes>"
      ]
     },
     "metadata": {},
     "output_type": "display_data"
    }
   ],
   "source": [
    "sns.kdeplot(df, x='выручка_от_клиента_текущий_месяц', hue=\"покупательская_активность\", fill=True)\n",
    "plt.ylabel('')\n",
    "# plt.savefig('target_2_4.png')\n",
    "plt.show()"
   ]
  },
  {
   "cell_type": "code",
   "execution_count": null,
   "id": "3a27993f",
   "metadata": {},
   "outputs": [],
   "source": []
  },
  {
   "cell_type": "markdown",
   "id": "f090c4d5",
   "metadata": {},
   "source": [
    "### Задача 5"
   ]
  },
  {
   "cell_type": "markdown",
   "id": "0dd9185b",
   "metadata": {},
   "source": [
    "Необходимо:\n",
    "1) Перевести название колонок в стандарт PEP8:\n",
    "- перевести в нижний регистр\n",
    "- пробелы между словами заменить на _\n",
    "- язык сохранить - кириллица\n",
    "\n",
    "2) Построить график круговой диаграммы для факторов в категориальной шкале. При построении учесть:\n",
    "\n",
    "построить график по столбцу, название которого вводится\n",
    "доли категорий вывести на графике в формате процента с одним знаком после запятой\n",
    "на графике вывести название категорий\n",
    "остальные параметры оставить по умолчанию\n",
    "\n",
    "Сохраните диаграмму в файл target_2_5.png."
   ]
  },
  {
   "cell_type": "code",
   "execution_count": 6,
   "id": "d4bcc7d7",
   "metadata": {},
   "outputs": [],
   "source": [
    "df = pd.read_csv(PATH_OUT + '\\\\market_csv.csv',sep=',', encoding='cp1251', skipinitialspace=True)"
   ]
  },
  {
   "cell_type": "code",
   "execution_count": 17,
   "id": "dffc3709",
   "metadata": {},
   "outputs": [
    {
     "name": "stdout",
     "output_type": "stream",
     "text": [
      "покупательская_активность\n"
     ]
    },
    {
     "data": {
      "image/png": "[encoded data removed]",
      "text/plain": [
       "<Figure size 640x480 with 1 Axes>"
      ]
     },
     "metadata": {},
     "output_type": "display_data"
    }
   ],
   "source": [
    "''''''\n",
    "plt.pie(y, autopct='%1.1f%%', labels=y.index)\n",
    "# plt.suptitle(f'Распределение данных по фактору:' {column})\n",
    "# plt.savefig('target_2_5.png')\n",
    "plt.show()"
   ]
  },
  {
   "cell_type": "code",
   "execution_count": null,
   "id": "5a47df4c",
   "metadata": {},
   "outputs": [],
   "source": []
  },
  {
   "cell_type": "markdown",
   "id": "447f6151",
   "metadata": {},
   "source": [
    "## Задача 6"
   ]
  },
  {
   "cell_type": "markdown",
   "id": "809b2d57",
   "metadata": {},
   "source": [
    "В этой задаче необходимо сделать:\n",
    "\n",
    "1) Перевести название колонок в стандарт PEP8:\n",
    "- перевести в нижний регистр\n",
    "- пробелы между словами заменить на _\n",
    "- язык сохранить - кириллица\n",
    "\n",
    "3) Создать новую категориальную переменную категории_товаров на основе фактора популярная_категория\n",
    "\n",
    "- Товары для детей обозначить как покупки для детей\n",
    "- Домашний текстиль, Кухонная посуда, Мелкая бытовая техника и электроника обозначить как покупки для быта\n",
    "- Косметика и аксессуары , Техника для красоты и здоровья обозначить как покупки для себя\n",
    "\n",
    "4) Сформировать новый датасет, в котором будут только клиенты, совершившие покупки для быта\n",
    "\n",
    "5) Рассчитать основные статистики для фактора \"разность_выручки_тек_прошлый_месяц\" с помощью функции describe(). При этом расчёт произвести группам покупательская_активность\n",
    "\n",
    "6) Перевести в целочисленный тип. На экран вывести результат в виде таблицы DataFrame."
   ]
  },
  {
   "cell_type": "code",
   "execution_count": null,
   "id": "8f83ee67",
   "metadata": {},
   "outputs": [],
   "source": []
  }
 ],
 "metadata": {
  "kernelspec": {
   "display_name": "Python 3 (ipykernel)",
   "language": "python",
   "name": "python3"
  },
  "language_info": {
   "codemirror_mode": {
    "name": "ipython",
    "version": 3
   },
   "file_extension": ".py",
   "mimetype": "text/x-python",
   "name": "python",
   "nbconvert_exporter": "python",
   "pygments_lexer": "ipython3",
   "version": "3.13.1"
  }
 },
 "nbformat": 4,
 "nbformat_minor": 5
}
