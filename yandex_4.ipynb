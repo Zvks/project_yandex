{
 "cells": [
  {
   "cell_type": "code",
   "execution_count": 1,
   "id": "9864b296",
   "metadata": {},
   "outputs": [],
   "source": [
    "import pandas as pd\n",
    "import numpy as np\n",
    "import matplotlib.pyplot as plt\n",
    "import seaborn as sns\n",
    "import scipy.stats as st"
   ]
  },
  {
   "cell_type": "code",
   "execution_count": 2,
   "id": "3cbc792f",
   "metadata": {
    "scrolled": true
   },
   "outputs": [
    {
     "name": "stdout",
     "output_type": "stream",
     "text": [
      "C:\\projects\\project_yandex\\.venv\\Scripts\\jupiter_notebooks\n"
     ]
    }
   ],
   "source": [
    "import os\n",
    "current_dir = os.getcwd()\n",
    "print(current_dir)"
   ]
  },
  {
   "cell_type": "code",
   "execution_count": 3,
   "id": "559058b9",
   "metadata": {},
   "outputs": [],
   "source": [
    "import warnings\n",
    "warnings.filterwarnings('ignore')"
   ]
  },
  {
   "cell_type": "raw",
   "id": "bf7e9b82",
   "metadata": {},
   "source": [
    "import phik\n",
    "from phik.report import plot_correlation_matrix\n",
    "from phik import report"
   ]
  },
  {
   "cell_type": "raw",
   "id": "41b6ab71",
   "metadata": {},
   "source": [
    "phik_overview = df.phik_matrix()#(interval_cols = interval_cols)\n",
    "phik_overview.round(2)"
   ]
  },
  {
   "cell_type": "code",
   "execution_count": null,
   "id": "7165b363",
   "metadata": {},
   "outputs": [],
   "source": []
  },
  {
   "cell_type": "markdown",
   "id": "ea6cedff",
   "metadata": {},
   "source": [
    "## ПРИМЕР"
   ]
  },
  {
   "cell_type": "markdown",
   "id": "769a1ac1",
   "metadata": {},
   "source": [
    "По результатам контрольной проверки налоговыми службами 400 бизнес-структур, у 140 из них в налоговых декларациях не полностью указаны доходы, подлежащие налогообложению. Определите в генеральной совокупности (по всему району) долю бизнес-структур, скрывших часть доходов от уплаты налогов, с вероятностью 0,954.(Z=1.96))"
   ]
  },
  {
   "attachments": {
    "image.png": {
     "image/png": "[encoded data removed]"
    }
   },
   "cell_type": "markdown",
   "id": "34f81b7e",
   "metadata": {},
   "source": [
    "![image.png](attachment:image.png)"
   ]
  },
  {
   "cell_type": "code",
   "execution_count": 42,
   "id": "d8269a1b",
   "metadata": {},
   "outputs": [
    {
     "data": {
      "text/plain": [
       "0.35"
      ]
     },
     "execution_count": 42,
     "metadata": {},
     "output_type": "execute_result"
    }
   ],
   "source": [
    "m = 140\n",
    "n = 400\n",
    "Z = 1.96\n",
    "p = m / n\n",
    "p"
   ]
  },
  {
   "cell_type": "code",
   "execution_count": null,
   "id": "7bf38d72",
   "metadata": {},
   "outputs": [],
   "source": [
    "p - H, p + H"
   ]
  },
  {
   "cell_type": "code",
   "execution_count": null,
   "id": "641f432a",
   "metadata": {},
   "outputs": [],
   "source": []
  },
  {
   "cell_type": "code",
   "execution_count": 37,
   "id": "ce7a4b0e",
   "metadata": {},
   "outputs": [
    {
     "data": {
      "text/plain": [
       "0.04674302086943033"
      ]
     },
     "execution_count": 37,
     "metadata": {},
     "output_type": "execute_result"
    }
   ],
   "source": [
    "H = Z * math.sqrt(p * (1 - p) / n)\n",
    "H"
   ]
  },
  {
   "cell_type": "code",
   "execution_count": 38,
   "id": "a70cb358",
   "metadata": {},
   "outputs": [
    {
     "data": {
      "text/plain": [
       "0.30325697913056965"
      ]
     },
     "execution_count": 38,
     "metadata": {},
     "output_type": "execute_result"
    }
   ],
   "source": [
    "p - H"
   ]
  },
  {
   "cell_type": "code",
   "execution_count": 39,
   "id": "9f11efdd",
   "metadata": {},
   "outputs": [
    {
     "data": {
      "text/plain": [
       "0.3967430208694303"
      ]
     },
     "execution_count": 39,
     "metadata": {},
     "output_type": "execute_result"
    }
   ],
   "source": [
    "p + H"
   ]
  },
  {
   "cell_type": "markdown",
   "id": "7e047c28",
   "metadata": {},
   "source": [
    "### Ответ: \n",
    "Доля бизнес-структур, скрывших часть доходов от уплаты налогов с вероятностью 0,954 равна 35±5%"
   ]
  },
  {
   "cell_type": "markdown",
   "id": "3944e5d0",
   "metadata": {},
   "source": [
    "## Задача 1"
   ]
  },
  {
   "cell_type": "markdown",
   "id": "6a6ee430",
   "metadata": {},
   "source": [
    "Вам поручено провести исследование по вопросу вывода нового продукта на рынок. В ходе исследования были опрошены 1200 человек (число_опрошенных = 1200). 25% из них заинтересовались новым продуктом (доля_ответов(р) = 0.25).\n",
    "\n",
    "Рассчитайте показатель ошибки выборочного расчёта (или по другому - предельная ошибка “Н”) при условии доверительного уровня Z, равного 95%. И выведите ответ в формате интервала p - Н и p + Н. Ответ дайте в процентах и с округлением до второго знака.\n",
    "\n",
    "Данные с результатами исследования находятся в файле data.csv с полями:\n",
    "\n",
    "в первом столбце – число_опрошенных\n",
    "во втором столбце – доля_ответов\n",
    "в третьем столбце – доверительный_уровень\n",
    "Разделитель столбцов – точка с запятой, десятичный разделитель – запятая."
   ]
  },
  {
   "cell_type": "code",
   "execution_count": 6,
   "id": "b41f947c",
   "metadata": {},
   "outputs": [],
   "source": [
    "PATH_OUT = r'C:\\Users\\Dell\\Desktop\\MyPython\\Yandex.Practica\\ПРЕДЛОЖЕНИЯ\\Школьники\\Работа_над_материалами\\Тема_4'"
   ]
  },
  {
   "cell_type": "code",
   "execution_count": 61,
   "id": "eaa0a8a2",
   "metadata": {
    "scrolled": true
   },
   "outputs": [
    {
     "data": {
      "text/html": [
       "<div>\n",
       "<style scoped>\n",
       "    .dataframe tbody tr th:only-of-type {\n",
       "        vertical-align: middle;\n",
       "    }\n",
       "\n",
       "    .dataframe tbody tr th {\n",
       "        vertical-align: top;\n",
       "    }\n",
       "\n",
       "    .dataframe thead th {\n",
       "        text-align: right;\n",
       "    }\n",
       "</style>\n",
       "<table border=\"1\" class=\"dataframe\">\n",
       "  <thead>\n",
       "    <tr style=\"text-align: right;\">\n",
       "      <th></th>\n",
       "      <th>число_опрошенных</th>\n",
       "      <th>доля_ответов</th>\n",
       "      <th>доверительный_уровень</th>\n",
       "    </tr>\n",
       "  </thead>\n",
       "  <tbody>\n",
       "    <tr>\n",
       "      <th>0</th>\n",
       "      <td>1200</td>\n",
       "      <td>0.25</td>\n",
       "      <td>1.96</td>\n",
       "    </tr>\n",
       "  </tbody>\n",
       "</table>\n",
       "</div>"
      ],
      "text/plain": [
       "   число_опрошенных  доля_ответов  доверительный_уровень\n",
       "0              1200          0.25                   1.96"
      ]
     },
     "execution_count": 61,
     "metadata": {},
     "output_type": "execute_result"
    }
   ],
   "source": [
    "df = pd.read_csv(PATH_OUT + '\\\\зад_1.csv',sep=';', encoding='cp1251', skipinitialspace=True, decimal=',')\n",
    "df = df.dropna()  # удалили строки с пропусками\n",
    "df.head(3)"
   ]
  },
  {
   "cell_type": "code",
   "execution_count": null,
   "id": "958f29c8",
   "metadata": {},
   "outputs": [],
   "source": []
  },
  {
   "cell_type": "code",
   "execution_count": null,
   "id": "50b32419",
   "metadata": {},
   "outputs": [],
   "source": []
  },
  {
   "cell_type": "markdown",
   "id": "895ddba5",
   "metadata": {},
   "source": [
    "## Задача 2"
   ]
  },
  {
   "cell_type": "markdown",
   "id": "0b19c146",
   "metadata": {},
   "source": [
    "На стоянке магазина подержанных автомобилей стоит 1200 машин. Провели осмотр 200 машин и зафиксировали пробег (в тыс км).\n",
    "Требуется рассчитать интервал истинной генеральной доли автомобилей с пробегом более 140. при условии доверительного уровня Z, равного 95%.\n",
    "Расчёт произвести в процентах и с округлением до второго знака. Вывести на экран в виде p - Н и p + Н\n",
    "\n",
    "Данные с результатами исследования находятся в файле data.csv с одним полем:\n",
    "\n",
    "пробег\n",
    "Разделитель столбцов – точка с запятой, десятичный разделитель – запятая."
   ]
  },
  {
   "cell_type": "code",
   "execution_count": 64,
   "id": "f5a87a0a",
   "metadata": {},
   "outputs": [
    {
     "data": {
      "text/html": [
       "<div>\n",
       "<style scoped>\n",
       "    .dataframe tbody tr th:only-of-type {\n",
       "        vertical-align: middle;\n",
       "    }\n",
       "\n",
       "    .dataframe tbody tr th {\n",
       "        vertical-align: top;\n",
       "    }\n",
       "\n",
       "    .dataframe thead th {\n",
       "        text-align: right;\n",
       "    }\n",
       "</style>\n",
       "<table border=\"1\" class=\"dataframe\">\n",
       "  <thead>\n",
       "    <tr style=\"text-align: right;\">\n",
       "      <th></th>\n",
       "      <th>пробег</th>\n",
       "    </tr>\n",
       "  </thead>\n",
       "  <tbody>\n",
       "    <tr>\n",
       "      <th>0</th>\n",
       "      <td>81</td>\n",
       "    </tr>\n",
       "    <tr>\n",
       "      <th>1</th>\n",
       "      <td>163</td>\n",
       "    </tr>\n",
       "    <tr>\n",
       "      <th>2</th>\n",
       "      <td>134</td>\n",
       "    </tr>\n",
       "    <tr>\n",
       "      <th>3</th>\n",
       "      <td>153</td>\n",
       "    </tr>\n",
       "    <tr>\n",
       "      <th>4</th>\n",
       "      <td>160</td>\n",
       "    </tr>\n",
       "    <tr>\n",
       "      <th>5</th>\n",
       "      <td>175</td>\n",
       "    </tr>\n",
       "    <tr>\n",
       "      <th>6</th>\n",
       "      <td>152</td>\n",
       "    </tr>\n",
       "    <tr>\n",
       "      <th>7</th>\n",
       "      <td>142</td>\n",
       "    </tr>\n",
       "  </tbody>\n",
       "</table>\n",
       "</div>"
      ],
      "text/plain": [
       "   пробег\n",
       "0      81\n",
       "1     163\n",
       "2     134\n",
       "3     153\n",
       "4     160\n",
       "5     175\n",
       "6     152\n",
       "7     142"
      ]
     },
     "execution_count": 64,
     "metadata": {},
     "output_type": "execute_result"
    }
   ],
   "source": [
    "df = pd.read_csv(PATH_OUT + '\\\\avto_csv.csv',sep=',', encoding='cp1251', skipinitialspace=True)\n",
    "df.head(8)"
   ]
  },
  {
   "attachments": {
    "image.png": {
     "image/png": "[encoded data removed]"
    }
   },
   "cell_type": "markdown",
   "id": "af1c8dcb",
   "metadata": {},
   "source": [
    "![image.png](attachment:image.png)"
   ]
  },
  {
   "cell_type": "markdown",
   "id": "8be7172a",
   "metadata": {},
   "source": [
    "### Дополнительно"
   ]
  },
  {
   "cell_type": "code",
   "execution_count": null,
   "id": "7607e10a",
   "metadata": {},
   "outputs": [],
   "source": []
  },
  {
   "cell_type": "markdown",
   "id": "29a3e364",
   "metadata": {},
   "source": [
    "## Задача 3"
   ]
  },
  {
   "cell_type": "markdown",
   "id": "089959ff",
   "metadata": {},
   "source": [
    "Производитель контролирует вес шоколадки Полёт. Вес в среднем должен быть 70 грамм. Какую выборку нужно отобрать, чтобы с доверительным уровнем Z, равным 95%, обеспечить предельную погрешность среднего Н 1 грамм. Данные об измерениях веса вес_шоколадки представлены в файле.\n",
    "\n",
    "\n",
    "На этапе анализа данных выяснилось, что есть \"супервыбросы\" в данных. Перед проведением расчёта от них необходимо избавиться.\n",
    "\n",
    "\n",
    "Окончательный результат вывести в виде числа, округлённого до целого.\n",
    "\n",
    "Данные с результатами исследования разных шоколадок находятся в файле data.csv с полями:\n",
    "\n",
    "в первом столбце – вес_шоколадки\n",
    "во втором столбце – название\n",
    "Разделитель столбцов – точка с запятой, десятичный разделитель – запятая\n",
    "\n",
    "Формат ввода"
   ]
  },
  {
   "cell_type": "code",
   "execution_count": 66,
   "id": "152dc1e3",
   "metadata": {},
   "outputs": [
    {
     "data": {
      "text/html": [
       "<div>\n",
       "<style scoped>\n",
       "    .dataframe tbody tr th:only-of-type {\n",
       "        vertical-align: middle;\n",
       "    }\n",
       "\n",
       "    .dataframe tbody tr th {\n",
       "        vertical-align: top;\n",
       "    }\n",
       "\n",
       "    .dataframe thead th {\n",
       "        text-align: right;\n",
       "    }\n",
       "</style>\n",
       "<table border=\"1\" class=\"dataframe\">\n",
       "  <thead>\n",
       "    <tr style=\"text-align: right;\">\n",
       "      <th></th>\n",
       "      <th>название</th>\n",
       "      <th>вес_шоколадки</th>\n",
       "    </tr>\n",
       "  </thead>\n",
       "  <tbody>\n",
       "    <tr>\n",
       "      <th>0</th>\n",
       "      <td>полёт</td>\n",
       "      <td>700</td>\n",
       "    </tr>\n",
       "    <tr>\n",
       "      <th>1</th>\n",
       "      <td>полёт</td>\n",
       "      <td>71</td>\n",
       "    </tr>\n",
       "    <tr>\n",
       "      <th>2</th>\n",
       "      <td>полёт</td>\n",
       "      <td>7</td>\n",
       "    </tr>\n",
       "  </tbody>\n",
       "</table>\n",
       "</div>"
      ],
      "text/plain": [
       "  название  вес_шоколадки\n",
       "0    полёт            700\n",
       "1    полёт             71\n",
       "2    полёт              7"
      ]
     },
     "execution_count": 66,
     "metadata": {},
     "output_type": "execute_result"
    }
   ],
   "source": [
    "df = pd.read_csv(PATH_OUT + '\\\\chocol_csv.csv',sep=';', encoding='cp1251', skipinitialspace=True)\n",
    "df.head(3)"
   ]
  },
  {
   "cell_type": "raw",
   "id": "1616aff2",
   "metadata": {},
   "source": [
    "срез сделать по: df = (df > df.quantile(0.01)) & (df < df.quantile(0.99))"
   ]
  },
  {
   "cell_type": "code",
   "execution_count": null,
   "id": "79b2f995",
   "metadata": {},
   "outputs": [],
   "source": []
  },
  {
   "cell_type": "markdown",
   "id": "0fb9bba5",
   "metadata": {},
   "source": [
    "## Задача 4"
   ]
  },
  {
   "cell_type": "markdown",
   "id": "e0cf18fc",
   "metadata": {},
   "source": [
    "Необходимо рассчитать объем выборки для проведения опроса населения по вопросу повышения пенсионного возраста, в зависимости от предельной ошибки Н. Соотношение за/против населения по данному вопросу - не известно. Доверительный уровень Z принимаем 95%. H изменяется от 0.01 до 0.1 с шагом 0.01.\n",
    "\n",
    "Результат вывести в виде таблицы DataFrame из двух столбцов.\n",
    "Название первого столбца: допустимая_ошибка: выводим предельную ошибку Н в процентах и в целочисленном виде.\n",
    "Название второго столбца размер_выборки: выводим значение посчитанного объёма выборки n в целочисленном виде."
   ]
  },
  {
   "cell_type": "markdown",
   "id": "738c86f0",
   "metadata": {},
   "source": [
    "цикл, данные в самой задаче"
   ]
  },
  {
   "cell_type": "code",
   "execution_count": null,
   "id": "adc24f38",
   "metadata": {},
   "outputs": [],
   "source": []
  },
  {
   "cell_type": "code",
   "execution_count": null,
   "id": "d06923b6",
   "metadata": {},
   "outputs": [],
   "source": []
  },
  {
   "cell_type": "markdown",
   "id": "88a8644b",
   "metadata": {},
   "source": [
    "## Задача 5"
   ]
  },
  {
   "cell_type": "markdown",
   "id": "1a958d9f",
   "metadata": {},
   "source": [
    "За смену выпускается 8000 шоколадок. Необходимо:\n",
    "\n",
    "1) определить предельную ошибку Н для шоколадок с весом более или равным 100 грамм. Результат округлить до третьего знака\n",
    "\n",
    "2) Рассчитать, сколько нужно проконтролировать шоколадок, чтобы улучшить оценку допустимой ошибки (посчитанную в п.1) в 5 раз. Результат округлить до целого.\n",
    "\n",
    "Доверительный уровень Z принимаем 95%. Вывод представить в виде пары чисел через запятую: результат пункта 1, результат пункта 2\n",
    "\n",
    "Данные с результатами исследования находятся в файле data.csv с одним полем вес_шоколадки, десятичный разделитель – запятая."
   ]
  },
  {
   "cell_type": "code",
   "execution_count": 69,
   "id": "80545d4f",
   "metadata": {},
   "outputs": [
    {
     "data": {
      "text/html": [
       "<div>\n",
       "<style scoped>\n",
       "    .dataframe tbody tr th:only-of-type {\n",
       "        vertical-align: middle;\n",
       "    }\n",
       "\n",
       "    .dataframe tbody tr th {\n",
       "        vertical-align: top;\n",
       "    }\n",
       "\n",
       "    .dataframe thead th {\n",
       "        text-align: right;\n",
       "    }\n",
       "</style>\n",
       "<table border=\"1\" class=\"dataframe\">\n",
       "  <thead>\n",
       "    <tr style=\"text-align: right;\">\n",
       "      <th></th>\n",
       "      <th>вес_шоколадки</th>\n",
       "    </tr>\n",
       "  </thead>\n",
       "  <tbody>\n",
       "    <tr>\n",
       "      <th>0</th>\n",
       "      <td>96</td>\n",
       "    </tr>\n",
       "    <tr>\n",
       "      <th>1</th>\n",
       "      <td>98</td>\n",
       "    </tr>\n",
       "    <tr>\n",
       "      <th>2</th>\n",
       "      <td>97</td>\n",
       "    </tr>\n",
       "  </tbody>\n",
       "</table>\n",
       "</div>"
      ],
      "text/plain": [
       "   вес_шоколадки\n",
       "0             96\n",
       "1             98\n",
       "2             97"
      ]
     },
     "execution_count": 69,
     "metadata": {},
     "output_type": "execute_result"
    }
   ],
   "source": [
    "df = pd.read_csv(PATH_OUT + '\\\\cake_csv.csv',sep=',', encoding='cp1251', skipinitialspace=True)\n",
    "df.head(3)"
   ]
  },
  {
   "cell_type": "code",
   "execution_count": 70,
   "id": "b21deb3e",
   "metadata": {},
   "outputs": [
    {
     "data": {
      "text/plain": [
       "(198, 1)"
      ]
     },
     "execution_count": 70,
     "metadata": {},
     "output_type": "execute_result"
    }
   ],
   "source": [
    "df.shape"
   ]
  },
  {
   "cell_type": "code",
   "execution_count": null,
   "id": "4a5d6edb",
   "metadata": {},
   "outputs": [],
   "source": []
  },
  {
   "cell_type": "markdown",
   "id": "a4a6f0e0",
   "metadata": {},
   "source": [
    "## Задача 6"
   ]
  },
  {
   "cell_type": "raw",
   "id": "23741bd8",
   "metadata": {},
   "source": [
    "Необходимо:\n",
    "1) Перевести название колонок в стандарт PEP8:\n",
    "- перевести в нижний регистр;\n",
    "- пробелы между словами заменить на _;\n",
    "- язык сохранить - кириллица.\n",
    "\n",
    "2) Построить графики гистограммы и ящика с усами на одной картинке. При построении учесть:\n",
    "\n",
    "построить изображение с графиками по категории из фактора \"покупательская активность\". Название категории вводится.\n",
    "использовать библиотеку seaborn;\n",
    "для построения гистограммы использовать histplot() с параметром количества столбцов 30;\n",
    "на гистограмме вывести также график оценки плотности;\n",
    "вывести заголовок диаграммы:\n",
    "Гистограмма и ящик с усами для количественных данных\n",
    "оси графиков не подписывать; те, что по умолчанию - исключить;\n",
    "остальные настройки графика по цвету, шрифту, отступам - оставить по умолчанию;\n",
    "размер изображения задать 9х3 дюймов;\n",
    "Важно учесть: после отбора группы для построения графиков необходимо сбросить индексы.\n",
    "Сохраните диаграмму в файл target_4_6.png."
   ]
  },
  {
   "cell_type": "code",
   "execution_count": 145,
   "id": "0c72a96d",
   "metadata": {},
   "outputs": [],
   "source": [
    "PATH_OUT = r'C:\\Users\\Dell\\Desktop\\MyPython\\Yandex.Practica\\ПРЕДЛОЖЕНИЯ\\Школьники\\Работа_над_материалами\\Тема_4'"
   ]
  },
  {
   "cell_type": "code",
   "execution_count": 146,
   "id": "58f66161",
   "metadata": {},
   "outputs": [
    {
     "data": {
      "text/html": [
       "<div>\n",
       "<style scoped>\n",
       "    .dataframe tbody tr th:only-of-type {\n",
       "        vertical-align: middle;\n",
       "    }\n",
       "\n",
       "    .dataframe tbody tr th {\n",
       "        vertical-align: top;\n",
       "    }\n",
       "\n",
       "    .dataframe thead th {\n",
       "        text-align: right;\n",
       "    }\n",
       "</style>\n",
       "<table border=\"1\" class=\"dataframe\">\n",
       "  <thead>\n",
       "    <tr style=\"text-align: right;\">\n",
       "      <th></th>\n",
       "      <th>Покупательская активность</th>\n",
       "      <th>Выручка_от_клиента_текущий_месяц</th>\n",
       "    </tr>\n",
       "  </thead>\n",
       "  <tbody>\n",
       "    <tr>\n",
       "      <th>0</th>\n",
       "      <td>Снизилась</td>\n",
       "      <td>4425</td>\n",
       "    </tr>\n",
       "    <tr>\n",
       "      <th>1</th>\n",
       "      <td>Снизилась</td>\n",
       "      <td>4472</td>\n",
       "    </tr>\n",
       "    <tr>\n",
       "      <th>2</th>\n",
       "      <td>Снизилась</td>\n",
       "      <td>4826</td>\n",
       "    </tr>\n",
       "  </tbody>\n",
       "</table>\n",
       "</div>"
      ],
      "text/plain": [
       "  Покупательская активность  Выручка_от_клиента_текущий_месяц\n",
       "0                 Снизилась                              4425\n",
       "1                 Снизилась                              4472\n",
       "2                 Снизилась                              4826"
      ]
     },
     "execution_count": 146,
     "metadata": {},
     "output_type": "execute_result"
    }
   ],
   "source": [
    "df = pd.read_csv(PATH_OUT + '\\\\graph.csv',sep=';', encoding='cp1251', skipinitialspace=True)\n",
    "df.head(3)"
   ]
  },
  {
   "cell_type": "code",
   "execution_count": 147,
   "id": "a5f59dbd",
   "metadata": {},
   "outputs": [
    {
     "data": {
      "text/html": [
       "<div>\n",
       "<style scoped>\n",
       "    .dataframe tbody tr th:only-of-type {\n",
       "        vertical-align: middle;\n",
       "    }\n",
       "\n",
       "    .dataframe tbody tr th {\n",
       "        vertical-align: top;\n",
       "    }\n",
       "\n",
       "    .dataframe thead th {\n",
       "        text-align: right;\n",
       "    }\n",
       "</style>\n",
       "<table border=\"1\" class=\"dataframe\">\n",
       "  <thead>\n",
       "    <tr style=\"text-align: right;\">\n",
       "      <th></th>\n",
       "      <th>покупательская_активность</th>\n",
       "      <th>выручка_от_клиента_текущий_месяц</th>\n",
       "    </tr>\n",
       "  </thead>\n",
       "  <tbody>\n",
       "    <tr>\n",
       "      <th>0</th>\n",
       "      <td>Снизилась</td>\n",
       "      <td>4425</td>\n",
       "    </tr>\n",
       "    <tr>\n",
       "      <th>1</th>\n",
       "      <td>Снизилась</td>\n",
       "      <td>4472</td>\n",
       "    </tr>\n",
       "    <tr>\n",
       "      <th>2</th>\n",
       "      <td>Снизилась</td>\n",
       "      <td>4826</td>\n",
       "    </tr>\n",
       "  </tbody>\n",
       "</table>\n",
       "</div>"
      ],
      "text/plain": [
       "  покупательская_активность  выручка_от_клиента_текущий_месяц\n",
       "0                 Снизилась                              4425\n",
       "1                 Снизилась                              4472\n",
       "2                 Снизилась                              4826"
      ]
     },
     "execution_count": 147,
     "metadata": {},
     "output_type": "execute_result"
    }
   ],
   "source": [
    "df.columns = df.columns.str.lower().str.replace(' ', '_')\n",
    "df.head(3)"
   ]
  },
  {
   "cell_type": "code",
   "execution_count": 91,
   "id": "f8d5d91a",
   "metadata": {},
   "outputs": [
    {
     "name": "stdout",
     "output_type": "stream",
     "text": [
      "Снизилась\n"
     ]
    },
    {
     "data": {
      "image/png": "[encoded data removed]",
      "text/plain": [
       "<Figure size 900x300 with 2 Axes>"
      ]
     },
     "metadata": {},
     "output_type": "display_data"
    }
   ],
   "source": []
  },
  {
   "cell_type": "code",
   "execution_count": null,
   "id": "c525aa52",
   "metadata": {},
   "outputs": [],
   "source": []
  }
 ],
 "metadata": {
  "kernelspec": {
   "display_name": "Python 3 (ipykernel)",
   "language": "python",
   "name": "python3"
  },
  "language_info": {
   "codemirror_mode": {
    "name": "ipython",
    "version": 3
   },
   "file_extension": ".py",
   "mimetype": "text/x-python",
   "name": "python",
   "nbconvert_exporter": "python",
   "pygments_lexer": "ipython3",
   "version": "3.13.1"
  }
 },
 "nbformat": 4,
 "nbformat_minor": 5
}
