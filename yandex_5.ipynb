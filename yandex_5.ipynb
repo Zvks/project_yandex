{
 "cells": [
  {
   "cell_type": "code",
   "execution_count": 42,
   "id": "9864b296",
   "metadata": {},
   "outputs": [],
   "source": [
    "import pandas as pd\n",
    "import numpy as np\n",
    "import matplotlib.pyplot as plt\n",
    "import seaborn as sns\n",
    "import scipy.stats as st"
   ]
  },
  {
   "cell_type": "code",
   "execution_count": 43,
   "id": "3cbc792f",
   "metadata": {
    "scrolled": true
   },
   "outputs": [
    {
     "name": "stdout",
     "output_type": "stream",
     "text": [
      "C:\\Users\\Dell\\Desktop\\MyPython\\Yandex.Practica\\ПРЕДЛОЖЕНИЯ\\Школьники\\Работа_над_материалами\\Тема_5\n"
     ]
    }
   ],
   "source": [
    "import os\n",
    "current_dir = os.getcwd()\n",
    "print(current_dir)"
   ]
  },
  {
   "cell_type": "code",
   "execution_count": 3,
   "id": "559058b9",
   "metadata": {},
   "outputs": [],
   "source": [
    "import warnings\n",
    "warnings.filterwarnings('ignore')"
   ]
  },
  {
   "cell_type": "raw",
   "id": "bf7e9b82",
   "metadata": {},
   "source": [
    "import phik\n",
    "from phik.report import plot_correlation_matrix\n",
    "from phik import report"
   ]
  },
  {
   "cell_type": "raw",
   "id": "41b6ab71",
   "metadata": {},
   "source": [
    "phik_overview = df.phik_matrix()#(interval_cols = interval_cols)\n",
    "phik_overview.round(2)"
   ]
  },
  {
   "cell_type": "code",
   "execution_count": null,
   "id": "7165b363",
   "metadata": {},
   "outputs": [],
   "source": []
  },
  {
   "cell_type": "code",
   "execution_count": null,
   "id": "7cddf56d",
   "metadata": {},
   "outputs": [],
   "source": []
  },
  {
   "cell_type": "markdown",
   "id": "3944e5d0",
   "metadata": {},
   "source": [
    "## Задача 1"
   ]
  },
  {
   "cell_type": "raw",
   "id": "a471f181",
   "metadata": {},
   "source": [
    "Интернет-компания “Шарики к празднику” приняла решение улучшить сайт. Были внесены изменения и заработала новая версия сайта на трёх регионах: ['Северо-запад', 'Урал', 'Центр']. Необходимо понять отличается ли время проведённое на сайте, ДО и ПОСЛЕ внесённых изменений по каждому региону. Для этого написать программу, которая бы выводила р-уровень при сравнении среднего времени, проведённого на сайте, по каждому региону.\n",
    "\n",
    "В программе необходимо учесть:\n",
    "\n",
    "данные распределены не нормально.\n",
    "Результат вывести в виде списка списков. Первый список - названия выводимых результатов: ['регион', 'р-уровень']. Остальные списки - расчёты по каждому региону.\n",
    "Значение р-уровня округлить до четвёртого знака.\n",
    "Для расчёта использовать библиотеку scipy.stats\n",
    "Выходной список списков отсортировать по значению р-уровню в порядке убывания"
   ]
  },
  {
   "cell_type": "code",
   "execution_count": 4,
   "id": "b41f947c",
   "metadata": {},
   "outputs": [],
   "source": [
    "PATH_OUT = r'C:\\Users\\Dell\\Desktop\\MyPython\\Yandex.Practica\\ПРЕДЛОЖЕНИЯ\\Школьники\\Работа_над_материалами\\Тема_5'"
   ]
  },
  {
   "cell_type": "code",
   "execution_count": 15,
   "id": "eaa0a8a2",
   "metadata": {
    "scrolled": true
   },
   "outputs": [
    {
     "data": {
      "text/html": [
       "<div>\n",
       "<style scoped>\n",
       "    .dataframe tbody tr th:only-of-type {\n",
       "        vertical-align: middle;\n",
       "    }\n",
       "\n",
       "    .dataframe tbody tr th {\n",
       "        vertical-align: top;\n",
       "    }\n",
       "\n",
       "    .dataframe thead th {\n",
       "        text-align: right;\n",
       "    }\n",
       "</style>\n",
       "<table border=\"1\" class=\"dataframe\">\n",
       "  <thead>\n",
       "    <tr style=\"text-align: right;\">\n",
       "      <th></th>\n",
       "      <th>время_до</th>\n",
       "      <th>время_после</th>\n",
       "      <th>регион</th>\n",
       "    </tr>\n",
       "  </thead>\n",
       "  <tbody>\n",
       "    <tr>\n",
       "      <th>0</th>\n",
       "      <td>237</td>\n",
       "      <td>240</td>\n",
       "      <td>Северо-запад</td>\n",
       "    </tr>\n",
       "    <tr>\n",
       "      <th>1</th>\n",
       "      <td>214</td>\n",
       "      <td>215</td>\n",
       "      <td>Северо-запад</td>\n",
       "    </tr>\n",
       "    <tr>\n",
       "      <th>2</th>\n",
       "      <td>202</td>\n",
       "      <td>194</td>\n",
       "      <td>Северо-запад</td>\n",
       "    </tr>\n",
       "    <tr>\n",
       "      <th>3</th>\n",
       "      <td>240</td>\n",
       "      <td>229</td>\n",
       "      <td>Северо-запад</td>\n",
       "    </tr>\n",
       "    <tr>\n",
       "      <th>4</th>\n",
       "      <td>192</td>\n",
       "      <td>187</td>\n",
       "      <td>Северо-запад</td>\n",
       "    </tr>\n",
       "    <tr>\n",
       "      <th>5</th>\n",
       "      <td>221</td>\n",
       "      <td>223</td>\n",
       "      <td>Северо-запад</td>\n",
       "    </tr>\n",
       "  </tbody>\n",
       "</table>\n",
       "</div>"
      ],
      "text/plain": [
       "   время_до  время_после        регион\n",
       "0       237          240  Северо-запад\n",
       "1       214          215  Северо-запад\n",
       "2       202          194  Северо-запад\n",
       "3       240          229  Северо-запад\n",
       "4       192          187  Северо-запад\n",
       "5       221          223  Северо-запад"
      ]
     },
     "execution_count": 15,
     "metadata": {},
     "output_type": "execute_result"
    }
   ],
   "source": [
    "df = pd.read_csv(PATH_OUT + '\\\\t_54.csv',sep=';', encoding='cp1251', skipinitialspace=True, decimal=',')\n",
    "df = df.dropna()  # удалили строки с пропусками\n",
    "df.head(6)"
   ]
  },
  {
   "cell_type": "code",
   "execution_count": 17,
   "id": "2984e622",
   "metadata": {},
   "outputs": [],
   "source": [
    "from operator import itemgetter\n",
    "from scipy.stats import ..."
   ]
  },
  {
   "cell_type": "code",
   "execution_count": null,
   "id": "6802e4e8",
   "metadata": {},
   "outputs": [],
   "source": [
    "dd = df.copy()\n",
    "\n",
    "\n",
    "...\n",
    "\n",
    "dd.sort(key=itemgetter(...))\n",
    "...\n",
    "    \n",
    "print(m_test)"
   ]
  },
  {
   "cell_type": "raw",
   "id": "e7086e22",
   "metadata": {},
   "source": [
    "[['регион', 'р-уровень'], ['Центр', 0.001], ['Урал', 0.004], ['Северо-запад', 0.4]]"
   ]
  },
  {
   "cell_type": "markdown",
   "id": "895ddba5",
   "metadata": {},
   "source": [
    "## Задача 2"
   ]
  },
  {
   "cell_type": "markdown",
   "id": "0b19c146",
   "metadata": {},
   "source": [
    "Даны пять показателей здоровья по двум группам пациентов. Все пациенты в таблице записаны по строкам. Разделение по группам происходит с помощью столбца group. Необходимо написать программу, которая бы выводила р-уровень при сравнении всех количественных факторов здоровья по двум группам между собой\n",
    "\n",
    "В программе необходимо учесть:\n",
    "\n",
    "Если данные в обеих группах распределены нормально, то для сравнения использовать метод Стьюдент с различной дисперсией. Если хотя бы в одной группе - не нормальное распределение, то для сравнения использовать метод Манн-Уитни. Для проверки на нормальность использовать метод Шапиро c уровнем принятия решения 0.05.\n",
    "Результат вывести в виде списка списков. Первый список - названия выводимых результатов: ['показатель', 'р-уровень', 'метод расчёта']. Остальные списки - расчёты по каждому фактору.\n",
    "Значение р-уровня округлить до 4 знака.\n",
    "Для расчёта использовать библиотеку scipy.stats\n",
    "Выходной список списков отсортировать по значению р-уровню в порядке убывания"
   ]
  },
  {
   "cell_type": "code",
   "execution_count": 26,
   "id": "f5a87a0a",
   "metadata": {},
   "outputs": [
    {
     "data": {
      "text/html": [
       "<div>\n",
       "<style scoped>\n",
       "    .dataframe tbody tr th:only-of-type {\n",
       "        vertical-align: middle;\n",
       "    }\n",
       "\n",
       "    .dataframe tbody tr th {\n",
       "        vertical-align: top;\n",
       "    }\n",
       "\n",
       "    .dataframe thead th {\n",
       "        text-align: right;\n",
       "    }\n",
       "</style>\n",
       "<table border=\"1\" class=\"dataframe\">\n",
       "  <thead>\n",
       "    <tr style=\"text-align: right;\">\n",
       "      <th></th>\n",
       "      <th>group</th>\n",
       "      <th>S, мм.кв</th>\n",
       "      <th>Av, мДж/с</th>\n",
       "      <th>X, мм</th>\n",
       "      <th>Y, мм</th>\n",
       "      <th>V, мм/с</th>\n",
       "    </tr>\n",
       "  </thead>\n",
       "  <tbody>\n",
       "    <tr>\n",
       "      <th>0</th>\n",
       "      <td>group_1</td>\n",
       "      <td>87.4</td>\n",
       "      <td>37.60</td>\n",
       "      <td>1.7</td>\n",
       "      <td>22.6</td>\n",
       "      <td>5.8</td>\n",
       "    </tr>\n",
       "    <tr>\n",
       "      <th>1</th>\n",
       "      <td>group_1</td>\n",
       "      <td>44.5</td>\n",
       "      <td>42.44</td>\n",
       "      <td>1.2</td>\n",
       "      <td>22.4</td>\n",
       "      <td>5.2</td>\n",
       "    </tr>\n",
       "    <tr>\n",
       "      <th>2</th>\n",
       "      <td>group_1</td>\n",
       "      <td>227.5</td>\n",
       "      <td>95.80</td>\n",
       "      <td>4.0</td>\n",
       "      <td>24.5</td>\n",
       "      <td>11.2</td>\n",
       "    </tr>\n",
       "    <tr>\n",
       "      <th>3</th>\n",
       "      <td>group_1</td>\n",
       "      <td>83.3</td>\n",
       "      <td>32.94</td>\n",
       "      <td>1.2</td>\n",
       "      <td>24.6</td>\n",
       "      <td>6.4</td>\n",
       "    </tr>\n",
       "    <tr>\n",
       "      <th>4</th>\n",
       "      <td>group_1</td>\n",
       "      <td>122.3</td>\n",
       "      <td>188.92</td>\n",
       "      <td>2.3</td>\n",
       "      <td>24.0</td>\n",
       "      <td>13.2</td>\n",
       "    </tr>\n",
       "    <tr>\n",
       "      <th>5</th>\n",
       "      <td>group_1</td>\n",
       "      <td>646.8</td>\n",
       "      <td>106.56</td>\n",
       "      <td>5.2</td>\n",
       "      <td>28.4</td>\n",
       "      <td>9.8</td>\n",
       "    </tr>\n",
       "    <tr>\n",
       "      <th>6</th>\n",
       "      <td>group_1</td>\n",
       "      <td>352.3</td>\n",
       "      <td>79.00</td>\n",
       "      <td>2.7</td>\n",
       "      <td>27.6</td>\n",
       "      <td>11.2</td>\n",
       "    </tr>\n",
       "    <tr>\n",
       "      <th>7</th>\n",
       "      <td>group_1</td>\n",
       "      <td>45.1</td>\n",
       "      <td>48.81</td>\n",
       "      <td>1.1</td>\n",
       "      <td>22.8</td>\n",
       "      <td>5.5</td>\n",
       "    </tr>\n",
       "  </tbody>\n",
       "</table>\n",
       "</div>"
      ],
      "text/plain": [
       "     group  S, мм.кв  Av, мДж/с  X, мм  Y, мм   V, мм/с\n",
       "0  group_1      87.4      37.60    1.7    22.6      5.8\n",
       "1  group_1      44.5      42.44    1.2    22.4      5.2\n",
       "2  group_1     227.5      95.80    4.0    24.5     11.2\n",
       "3  group_1      83.3      32.94    1.2    24.6      6.4\n",
       "4  group_1     122.3     188.92    2.3    24.0     13.2\n",
       "5  group_1     646.8     106.56    5.2    28.4      9.8\n",
       "6  group_1     352.3      79.00    2.7    27.6     11.2\n",
       "7  group_1      45.1      48.81    1.1    22.8      5.5"
      ]
     },
     "execution_count": 26,
     "metadata": {},
     "output_type": "execute_result"
    }
   ],
   "source": [
    "df = pd.read_csv(PATH_OUT + '\\\\t5.csv',sep=';', encoding='cp1251', skipinitialspace=True, decimal=',')\n",
    "df.head(8)"
   ]
  },
  {
   "cell_type": "code",
   "execution_count": 28,
   "id": "e5e38f8b",
   "metadata": {},
   "outputs": [],
   "source": [
    "from operator import itemgetter\n",
    "from scipy.stats import mannwhitneyu, ttest_ind, shapiro"
   ]
  },
  {
   "cell_type": "code",
   "execution_count": null,
   "id": "54787003",
   "metadata": {},
   "outputs": [],
   "source": [
    "dd = df.copy()\n",
    "\n",
    "если ((shapiro(g1)[1] >= 0.05) and (shapiro(g2)[1] >= 0.05)):\n",
    "то применяем Стьюдент\n",
    "иначе применяем Манна-Уитни\n",
    "\n",
    "....  \n",
    "\n",
    "print(m_test)"
   ]
  },
  {
   "cell_type": "raw",
   "id": "f434a0a8",
   "metadata": {},
   "source": [
    "[['показатель', 'р-уровень', 'метод расчёта'], ['V, мм/с', 0.1, 'Манн-Уитни'], ['Av, мДж/с', 0.3, 'Манн-Уитни'], ['Y, мм ', 0.2, 'Манн-Уитни'], ['S, мм.кв', 0.1, 'Манн-Уитни'], ['X, мм', 0.9, 'Манн-Уитни']]"
   ]
  },
  {
   "cell_type": "markdown",
   "id": "8be7172a",
   "metadata": {},
   "source": [
    "### Дополнительно"
   ]
  },
  {
   "cell_type": "code",
   "execution_count": null,
   "id": "7607e10a",
   "metadata": {},
   "outputs": [],
   "source": [
    "0.003"
   ]
  },
  {
   "cell_type": "markdown",
   "id": "29a3e364",
   "metadata": {},
   "source": [
    "## Задача 3"
   ]
  },
  {
   "cell_type": "raw",
   "id": "b6c89645",
   "metadata": {},
   "source": [
    "Группа медиков изучает, какой тип зондирования при проведении медицинского осмотра пациентов лучше. Исследуется два типа зондирования: Классическое и Двойное эндоскопическое сопровождение . В таблице они обозначены как фактор(столбец) вид_зондирования. Были зафиксированы случаи осложнений по каждому пациенту. В таблицу заносили по каждому типу осложнений, как да или нет (были или не были осложнения после исследования). Всего возможно четыре типа осложнений. В таблице они обозначены как 4 фактора(столбца) ['тип_осложнения_1', 'тип_осложнения_2', 'тип_осложнения_3', 'тип_осложнения_4'].\n",
    "\n",
    "Необходимо написать программу, которая бы выводила р-уровень при сравнении каждого типа осложнений и типа зондирования.\n",
    "\n",
    "В программе необходимо учесть:\n",
    "\n",
    "результатом работы функции должен быть список списков. Первый список - названия выводимых результатов: ['показатель', 'р-уровень']. Остальные списки - расчёты по каждому типу осложнения.\n",
    "значение р-уровня округлить до 4 знака.\n",
    "для расчёта использовать библиотеку scipy.stats\n",
    "выходной список списков отсортировать по значению р-уровню в порядке убывания"
   ]
  },
  {
   "cell_type": "code",
   "execution_count": 30,
   "id": "152dc1e3",
   "metadata": {},
   "outputs": [
    {
     "data": {
      "text/html": [
       "<div>\n",
       "<style scoped>\n",
       "    .dataframe tbody tr th:only-of-type {\n",
       "        vertical-align: middle;\n",
       "    }\n",
       "\n",
       "    .dataframe tbody tr th {\n",
       "        vertical-align: top;\n",
       "    }\n",
       "\n",
       "    .dataframe thead th {\n",
       "        text-align: right;\n",
       "    }\n",
       "</style>\n",
       "<table border=\"1\" class=\"dataframe\">\n",
       "  <thead>\n",
       "    <tr style=\"text-align: right;\">\n",
       "      <th></th>\n",
       "      <th>вид_зондирования</th>\n",
       "      <th>время_зондирования, сек</th>\n",
       "      <th>тип_осложнения_1</th>\n",
       "      <th>тип_осложнения_2</th>\n",
       "      <th>тип_осложнения_3</th>\n",
       "      <th>тип_осложнения_4</th>\n",
       "    </tr>\n",
       "  </thead>\n",
       "  <tbody>\n",
       "    <tr>\n",
       "      <th>0</th>\n",
       "      <td>Классическое</td>\n",
       "      <td>69</td>\n",
       "      <td>да</td>\n",
       "      <td>да</td>\n",
       "      <td>да</td>\n",
       "      <td>да</td>\n",
       "    </tr>\n",
       "    <tr>\n",
       "      <th>1</th>\n",
       "      <td>Классическое</td>\n",
       "      <td>78</td>\n",
       "      <td>да</td>\n",
       "      <td>да</td>\n",
       "      <td>да</td>\n",
       "      <td>да</td>\n",
       "    </tr>\n",
       "    <tr>\n",
       "      <th>2</th>\n",
       "      <td>Классическое</td>\n",
       "      <td>81</td>\n",
       "      <td>да</td>\n",
       "      <td>да</td>\n",
       "      <td>да</td>\n",
       "      <td>да</td>\n",
       "    </tr>\n",
       "  </tbody>\n",
       "</table>\n",
       "</div>"
      ],
      "text/plain": [
       "  вид_зондирования  время_зондирования, сек тип_осложнения_1 тип_осложнения_2  \\\n",
       "0     Классическое                       69               да               да   \n",
       "1     Классическое                       78               да               да   \n",
       "2     Классическое                       81               да               да   \n",
       "\n",
       "  тип_осложнения_3 тип_осложнения_4  \n",
       "0               да               да  \n",
       "1               да               да  \n",
       "2               да               да  "
      ]
     },
     "execution_count": 30,
     "metadata": {},
     "output_type": "execute_result"
    }
   ],
   "source": [
    "df = pd.read_csv(PATH_OUT + '\\\\t_51.csv',sep=';', encoding='cp1251', skipinitialspace=True)\n",
    "df.head(3)"
   ]
  },
  {
   "cell_type": "code",
   "execution_count": 32,
   "id": "ee9eb9b1",
   "metadata": {},
   "outputs": [],
   "source": [
    "from operator import itemgetter\n",
    "import scipy.stats as ss"
   ]
  },
  {
   "cell_type": "code",
   "execution_count": null,
   "id": "b8b57e06",
   "metadata": {},
   "outputs": [],
   "source": [
    "dd = df.copy()\n",
    "\n",
    "nominal_columns = ['тип_осложнения_1', 'тип_осложнения_2', 'тип_осложнения_3', 'тип_осложнения_4']\n",
    "group = 'вид_зондирования'\n",
    "\n",
    "...\n",
    "\n",
    "cross_matrix = pd.crosstab()\n",
    "ss.chi2_contingency(cross_matrix, correction=True)                \n",
    "\n",
    "..\n",
    "\n",
    "....\n",
    "....     \n",
    "\n",
    "print(chi2)"
   ]
  },
  {
   "cell_type": "code",
   "execution_count": null,
   "id": "323260e5",
   "metadata": {},
   "outputs": [],
   "source": [
    "[['показатель', 'р-уровень'], ['тип_осложнения_1', 0.001], ['тип_осложнения_4', 0.2], ['тип_осложнения_2', 0.3], ['тип_осложнения_3', 0.9]]"
   ]
  },
  {
   "cell_type": "markdown",
   "id": "0fb9bba5",
   "metadata": {},
   "source": [
    "## Задача 4"
   ]
  },
  {
   "cell_type": "raw",
   "id": "9470c5ad",
   "metadata": {},
   "source": [
    "Даны десять показателей здоровья по двум группам пациентов Группа_1 и Группа_2. Все пациенты в таблице записаны по строкам. Разделение по группам происходит с помощью столбца Группа. Необходимо написать программу, которая бы выводила значение корреляции и р-уровень в Группе_1 по каждой паре количественных факторов из исходной таблицы.\n",
    "\n",
    "В программе необходимо учесть:\n",
    "\n",
    "Если данные в обоих сравниваемых факторов распределены нормально, то для сравнения использовать метод корреляции Пирсон. Если хотя бы в одном факторе - не нормальное распределение, то для расчёта корреляции использовать метод Спирмен. Для проверки на нормальность использовать метод Шапиро c уровнем принятия решения 0.05.\n",
    "Результат вывести в виде списка списков. Первый список - названия выводимых результатов: ['показатель 1', 'показатель 2', 'значение корреляции', 'р-уровень', 'метод корреляции']. Остальные списки - расчёты по каждому фактору.\n",
    "Значение р-уровня округлить до четвёртого знака.\n",
    "Значение корреляции округлить до второго знака.\n",
    "Вывести только те расчёты, у которых р-уровень меньше 0.05\n",
    "Корреляцию показателя самого с собой - не выводить. Дублирование (одинаковые) убираем из таблицы. (одинаковые - это когда влияние 'xy' равно влиянию 'yx')\n",
    "Для расчёта использовать библиотеку scipy.stats\n",
    "Итоговый список списков отсортировать по значению корреляции в порядке убывания"
   ]
  },
  {
   "cell_type": "code",
   "execution_count": 53,
   "id": "38433afc",
   "metadata": {},
   "outputs": [
    {
     "data": {
      "text/html": [
       "<div>\n",
       "<style scoped>\n",
       "    .dataframe tbody tr th:only-of-type {\n",
       "        vertical-align: middle;\n",
       "    }\n",
       "\n",
       "    .dataframe tbody tr th {\n",
       "        vertical-align: top;\n",
       "    }\n",
       "\n",
       "    .dataframe thead th {\n",
       "        text-align: right;\n",
       "    }\n",
       "</style>\n",
       "<table border=\"1\" class=\"dataframe\">\n",
       "  <thead>\n",
       "    <tr style=\"text-align: right;\">\n",
       "      <th></th>\n",
       "      <th>Группа</th>\n",
       "      <th>K</th>\n",
       "      <th>Ca</th>\n",
       "      <th>V</th>\n",
       "      <th>Cd</th>\n",
       "      <th>I</th>\n",
       "      <th>Pb</th>\n",
       "      <th>Q39_Corineform</th>\n",
       "      <th>Q56_Pseudonocardia</th>\n",
       "      <th>Q56_Общее_кол-во_МО</th>\n",
       "      <th>Q57_Плазмологен_мкг/мл</th>\n",
       "    </tr>\n",
       "  </thead>\n",
       "  <tbody>\n",
       "    <tr>\n",
       "      <th>0</th>\n",
       "      <td>Группа_2</td>\n",
       "      <td>37.02</td>\n",
       "      <td>2287.91</td>\n",
       "      <td>0.006</td>\n",
       "      <td>0.06</td>\n",
       "      <td>0.021</td>\n",
       "      <td>0.19</td>\n",
       "      <td>282</td>\n",
       "      <td>32</td>\n",
       "      <td>28456</td>\n",
       "      <td>84.73</td>\n",
       "    </tr>\n",
       "    <tr>\n",
       "      <th>1</th>\n",
       "      <td>Группа_2</td>\n",
       "      <td>218.85</td>\n",
       "      <td>3187.86</td>\n",
       "      <td>0.069</td>\n",
       "      <td>0.09</td>\n",
       "      <td>0.056</td>\n",
       "      <td>0.39</td>\n",
       "      <td>367</td>\n",
       "      <td>55</td>\n",
       "      <td>31199</td>\n",
       "      <td>4.19</td>\n",
       "    </tr>\n",
       "    <tr>\n",
       "      <th>2</th>\n",
       "      <td>Группа_2</td>\n",
       "      <td>428.57</td>\n",
       "      <td>1710.23</td>\n",
       "      <td>0.009</td>\n",
       "      <td>0.03</td>\n",
       "      <td>0.758</td>\n",
       "      <td>0.59</td>\n",
       "      <td>504</td>\n",
       "      <td>86</td>\n",
       "      <td>42251</td>\n",
       "      <td>18.36</td>\n",
       "    </tr>\n",
       "  </tbody>\n",
       "</table>\n",
       "</div>"
      ],
      "text/plain": [
       "     Группа       K       Ca      V    Cd      I    Pb  Q39_Corineform  \\\n",
       "0  Группа_2   37.02  2287.91  0.006  0.06  0.021  0.19             282   \n",
       "1  Группа_2  218.85  3187.86  0.069  0.09  0.056  0.39             367   \n",
       "2  Группа_2  428.57  1710.23  0.009  0.03  0.758  0.59             504   \n",
       "\n",
       "   Q56_Pseudonocardia  Q56_Общее_кол-во_МО  Q57_Плазмологен_мкг/мл  \n",
       "0                  32                28456                   84.73  \n",
       "1                  55                31199                    4.19  \n",
       "2                  86                42251                   18.36  "
      ]
     },
     "execution_count": 53,
     "metadata": {},
     "output_type": "execute_result"
    }
   ],
   "source": [
    "df = pd.read_csv(PATH_OUT + '\\\\t_53.csv',sep=';', encoding='cp1251', skipinitialspace=True, decimal=',')\n",
    "df.head(3)"
   ]
  },
  {
   "cell_type": "code",
   "execution_count": 45,
   "id": "b067e636",
   "metadata": {},
   "outputs": [],
   "source": [
    "from scipy.stats import pearsonr, spearmanr, shapiro\n",
    "from operator import itemgetter"
   ]
  },
  {
   "cell_type": "raw",
   "id": "4f9c0293",
   "metadata": {},
   "source": [
    "dd = df.copy()\n",
    "\n",
    "....     \n",
    "\n",
    "m1_test"
   ]
  },
  {
   "cell_type": "code",
   "execution_count": null,
   "id": "31a8ef1c",
   "metadata": {},
   "outputs": [],
   "source": []
  },
  {
   "cell_type": "code",
   "execution_count": null,
   "id": "f89fc4c9",
   "metadata": {},
   "outputs": [],
   "source": []
  },
  {
   "cell_type": "markdown",
   "id": "88a8644b",
   "metadata": {},
   "source": [
    "## Задача 5"
   ]
  },
  {
   "cell_type": "markdown",
   "id": "1a958d9f",
   "metadata": {},
   "source": [
    "Перед вами данные, как и в первой задаче.\n",
    "Там речь шла об интернет-компании “Шарики к празднику”.\n",
    "Она внедряла улучшения в дизайне сайта. Новая версия сайта работала на трёх регионах: ['Северо-запад', 'Урал', 'Центр'].\n",
    "\n",
    "В исходной таблице три столбца: время_до, время_после, регион\n",
    "\n",
    "Построить график \"ящик с усами\" по факторам время_до, время_после.\n",
    "Необходимо учесть:\n",
    "\n",
    "Два ящика выводить на одном графике;\n",
    "Сделать код, который бы строил график по одному региону. Регион вводится;\n",
    "Параметры графика оставить по умолчанию."
   ]
  },
  {
   "cell_type": "code",
   "execution_count": 39,
   "id": "80545d4f",
   "metadata": {},
   "outputs": [
    {
     "data": {
      "text/html": [
       "<div>\n",
       "<style scoped>\n",
       "    .dataframe tbody tr th:only-of-type {\n",
       "        vertical-align: middle;\n",
       "    }\n",
       "\n",
       "    .dataframe tbody tr th {\n",
       "        vertical-align: top;\n",
       "    }\n",
       "\n",
       "    .dataframe thead th {\n",
       "        text-align: right;\n",
       "    }\n",
       "</style>\n",
       "<table border=\"1\" class=\"dataframe\">\n",
       "  <thead>\n",
       "    <tr style=\"text-align: right;\">\n",
       "      <th></th>\n",
       "      <th>время_до</th>\n",
       "      <th>время_после</th>\n",
       "      <th>регион</th>\n",
       "    </tr>\n",
       "  </thead>\n",
       "  <tbody>\n",
       "    <tr>\n",
       "      <th>0</th>\n",
       "      <td>237</td>\n",
       "      <td>240</td>\n",
       "      <td>Северо-запад</td>\n",
       "    </tr>\n",
       "    <tr>\n",
       "      <th>1</th>\n",
       "      <td>214</td>\n",
       "      <td>215</td>\n",
       "      <td>Северо-запад</td>\n",
       "    </tr>\n",
       "    <tr>\n",
       "      <th>2</th>\n",
       "      <td>202</td>\n",
       "      <td>194</td>\n",
       "      <td>Северо-запад</td>\n",
       "    </tr>\n",
       "  </tbody>\n",
       "</table>\n",
       "</div>"
      ],
      "text/plain": [
       "   время_до  время_после        регион\n",
       "0       237          240  Северо-запад\n",
       "1       214          215  Северо-запад\n",
       "2       202          194  Северо-запад"
      ]
     },
     "execution_count": 39,
     "metadata": {},
     "output_type": "execute_result"
    }
   ],
   "source": [
    "df = pd.read_csv(PATH_OUT + '\\\\t_54.csv',sep=';', encoding='cp1251', skipinitialspace=True)\n",
    "df.head(3)"
   ]
  },
  {
   "cell_type": "code",
   "execution_count": 1,
   "id": "8817e7e4",
   "metadata": {},
   "outputs": [
    {
     "ename": "SyntaxError",
     "evalue": "invalid syntax (453603791.py, line 1)",
     "output_type": "error",
     "traceback": [
      "\u001b[1;36m  Cell \u001b[1;32mIn[1], line 1\u001b[1;36m\u001b[0m\n\u001b[1;33m    ....\u001b[0m\n\u001b[1;37m        ^\u001b[0m\n\u001b[1;31mSyntaxError\u001b[0m\u001b[1;31m:\u001b[0m invalid syntax\n"
     ]
    }
   ],
   "source": [
    "....\n",
    "df.columns = ...\n",
    "df = ...\n",
    "df = ...\n",
    "...\n",
    "sns.boxplot(x='время', y='период', data=df)\n",
    "plt.show()\n"
   ]
  },
  {
   "cell_type": "code",
   "execution_count": null,
   "id": "4a5d6edb",
   "metadata": {},
   "outputs": [],
   "source": []
  },
  {
   "attachments": {
    "image.png": {
     "image/png": "[encoded data removed]"
    }
   },
   "cell_type": "markdown",
   "id": "38c13127",
   "metadata": {},
   "source": [
    "![image.png](attachment:image.png)"
   ]
  },
  {
   "cell_type": "markdown",
   "id": "ff8c3b0a",
   "metadata": {},
   "source": [
    "Пример ответа:"
   ]
  },
  {
   "attachments": {
    "image.png": {
     "image/png": "[encoded data removed]"
    }
   },
   "cell_type": "markdown",
   "id": "d1672490",
   "metadata": {},
   "source": [
    "![image.png](attachment:image.png)"
   ]
  },
  {
   "cell_type": "code",
   "execution_count": null,
   "id": "062eda2d",
   "metadata": {},
   "outputs": [],
   "source": []
  },
  {
   "cell_type": "code",
   "execution_count": null,
   "id": "04504745",
   "metadata": {},
   "outputs": [],
   "source": []
  }
 ],
 "metadata": {
  "kernelspec": {
   "display_name": "Python 3 (ipykernel)",
   "language": "python",
   "name": "python3"
  },
  "language_info": {
   "codemirror_mode": {
    "name": "ipython",
    "version": 3
   },
   "file_extension": ".py",
   "mimetype": "text/x-python",
   "name": "python",
   "nbconvert_exporter": "python",
   "pygments_lexer": "ipython3",
   "version": "3.13.1"
  }
 },
 "nbformat": 4,
 "nbformat_minor": 5
}
