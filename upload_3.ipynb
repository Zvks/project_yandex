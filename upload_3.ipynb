{
 "cells": [
  {
   "cell_type": "code",
   "execution_count": 1,
   "id": "9864b296",
   "metadata": {},
   "outputs": [
    {
     "name": "stderr",
     "output_type": "stream",
     "text": [
      "<frozen importlib._bootstrap>:219: RuntimeWarning: scipy._lib.messagestream.MessageStream size changed, may indicate binary incompatibility. Expected 56 from C header, got 64 from PyObject\n"
     ]
    }
   ],
   "source": [
    "import pandas as pd\n",
    "import numpy as np\n",
    "import matplotlib.pyplot as plt\n",
    "import seaborn as sns\n",
    "import scipy.stats as st"
   ]
  },
  {
   "cell_type": "code",
   "execution_count": 2,
   "id": "3cbc792f",
   "metadata": {
    "scrolled": true
   },
   "outputs": [
    {
     "name": "stdout",
     "output_type": "stream",
     "text": [
      "C:\\Users\\Dell\\Desktop\\MyPython\\Yandex.Practica\\ПРЕДЛОЖЕНИЯ\\Школьники\\Работа_над_материалами\\Тема_3\n"
     ]
    }
   ],
   "source": [
    "import os\n",
    "current_dir = os.getcwd()\n",
    "print(current_dir)"
   ]
  },
  {
   "cell_type": "code",
   "execution_count": 3,
   "id": "559058b9",
   "metadata": {},
   "outputs": [],
   "source": [
    "import warnings\n",
    "warnings.filterwarnings('ignore')"
   ]
  },
  {
   "cell_type": "raw",
   "id": "bf7e9b82",
   "metadata": {},
   "source": [
    "import phik\n",
    "from phik.report import plot_correlation_matrix\n",
    "from phik import report"
   ]
  },
  {
   "cell_type": "raw",
   "id": "41b6ab71",
   "metadata": {},
   "source": [
    "phik_overview = df.phik_matrix()#(interval_cols = interval_cols)\n",
    "phik_overview.round(2)"
   ]
  },
  {
   "cell_type": "markdown",
   "id": "3944e5d0",
   "metadata": {},
   "source": [
    "## Задача 1"
   ]
  },
  {
   "cell_type": "markdown",
   "id": "6a6ee430",
   "metadata": {},
   "source": [
    "1) Перевести название колонок в стандарт PEP8:\n",
    "- перевести в нижний регистр\n",
    "- пробелы между словами заменить на _\n",
    "- язык сохранить - кириллица\n",
    "\n",
    "2) Сформировать новый датасет из отсортированного в алфавитном порядке списка из трёх факторов в количественной шкале: ингредиент_2, ингредиент_1, вес\n",
    "\n",
    "3) Рассчитать матрицу корреляций для количественных данных. Использовать метод корреляций для случая нормального распределения данных."
   ]
  },
  {
   "cell_type": "code",
   "execution_count": 22,
   "id": "b41f947c",
   "metadata": {},
   "outputs": [],
   "source": [
    "PATH_OUT = r'C:\\Users\\Dell\\Desktop\\MyPython\\Yandex.Practica\\ПРЕДЛОЖЕНИЯ\\Школьники\\Работа_над_материалами\\Тема_3'"
   ]
  },
  {
   "cell_type": "code",
   "execution_count": 25,
   "id": "eaa0a8a2",
   "metadata": {
    "scrolled": true
   },
   "outputs": [
    {
     "data": {
      "text/html": [
       "<div>\n",
       "<style scoped>\n",
       "    .dataframe tbody tr th:only-of-type {\n",
       "        vertical-align: middle;\n",
       "    }\n",
       "\n",
       "    .dataframe tbody tr th {\n",
       "        vertical-align: top;\n",
       "    }\n",
       "\n",
       "    .dataframe thead th {\n",
       "        text-align: right;\n",
       "    }\n",
       "</style>\n",
       "<table border=\"1\" class=\"dataframe\">\n",
       "  <thead>\n",
       "    <tr style=\"text-align: right;\">\n",
       "      <th></th>\n",
       "      <th>вес</th>\n",
       "      <th>оператор_линии</th>\n",
       "      <th>ингредиент_1</th>\n",
       "      <th>номер_смены</th>\n",
       "      <th>новер_конвейера</th>\n",
       "      <th>ингредиент_2</th>\n",
       "      <th>брак</th>\n",
       "    </tr>\n",
       "  </thead>\n",
       "  <tbody>\n",
       "    <tr>\n",
       "      <th>0</th>\n",
       "      <td>61.7</td>\n",
       "      <td>2</td>\n",
       "      <td>250.9</td>\n",
       "      <td>2</td>\n",
       "      <td>1</td>\n",
       "      <td>6.3</td>\n",
       "      <td>Годен</td>\n",
       "    </tr>\n",
       "    <tr>\n",
       "      <th>1</th>\n",
       "      <td>58.6</td>\n",
       "      <td>2</td>\n",
       "      <td>275.7</td>\n",
       "      <td>1</td>\n",
       "      <td>2</td>\n",
       "      <td>6.7</td>\n",
       "      <td>Брак</td>\n",
       "    </tr>\n",
       "    <tr>\n",
       "      <th>2</th>\n",
       "      <td>53.6</td>\n",
       "      <td>2</td>\n",
       "      <td>280.6</td>\n",
       "      <td>2</td>\n",
       "      <td>1</td>\n",
       "      <td>7.5</td>\n",
       "      <td>Брак</td>\n",
       "    </tr>\n",
       "  </tbody>\n",
       "</table>\n",
       "</div>"
      ],
      "text/plain": [
       "    вес  оператор_линии  ингредиент_1  номер_смены  новер_конвейера  \\\n",
       "0  61.7               2         250.9            2                1   \n",
       "1  58.6               2         275.7            1                2   \n",
       "2  53.6               2         280.6            2                1   \n",
       "\n",
       "   ингредиент_2   брак  \n",
       "0           6.3  Годен  \n",
       "1           6.7   Брак  \n",
       "2           7.5   Брак  "
      ]
     },
     "execution_count": 25,
     "metadata": {},
     "output_type": "execute_result"
    }
   ],
   "source": [
    "df = pd.read_csv(PATH_OUT + '\\\\qq_csv.csv',sep=',', encoding='cp1251', skipinitialspace=True)\n",
    "df = df.dropna()  # удалили строки с пропусками\n",
    "df.head(3)"
   ]
  },
  {
   "cell_type": "code",
   "execution_count": 7,
   "id": "cc8fa3cc",
   "metadata": {},
   "outputs": [
    {
     "name": "stdout",
     "output_type": "stream",
     "text": [
      "                   вес  ингредиент_1  ингредиент_2\n",
      "вес           1.000000     -0.087235      0.669274\n",
      "ингредиент_1 -0.087235      1.000000      0.005579\n",
      "ингредиент_2  0.669274      0.005579      1.000000\n"
     ]
    }
   ],
   "source": []
  },
  {
   "cell_type": "code",
   "execution_count": null,
   "id": "ddf4256a",
   "metadata": {},
   "outputs": [],
   "source": []
  },
  {
   "cell_type": "markdown",
   "id": "895ddba5",
   "metadata": {},
   "source": [
    "## Задача 2"
   ]
  },
  {
   "cell_type": "markdown",
   "id": "0b19c146",
   "metadata": {},
   "source": [
    "1) Перевести название колонок в стандарт PEP8:\n",
    "- перевести в нижний регистр\n",
    "- пробелы между словами заменить на _\n",
    "- язык сохранить - кириллица\n",
    "\n",
    "2) Сгруппировать по номеру партии (столбцу key) и найти сумму по каждому фактору.\n",
    "\n",
    "3) Рассчитать матрицу линейных корреляций между количественными данными для новой таблицы. Использовать метод корреляции для случая ненормального распределения данных.\n",
    "\n",
    "4) Вывести на экран матрицу корреляций. Если коэффициент корреляции менее 0.85 по модулю, то такие значения в матрице не должны выводится (вместо них должны стоять NaN)."
   ]
  },
  {
   "cell_type": "code",
   "execution_count": 8,
   "id": "f5a87a0a",
   "metadata": {},
   "outputs": [
    {
     "data": {
      "text/html": [
       "<div>\n",
       "<style scoped>\n",
       "    .dataframe tbody tr th:only-of-type {\n",
       "        vertical-align: middle;\n",
       "    }\n",
       "\n",
       "    .dataframe tbody tr th {\n",
       "        vertical-align: top;\n",
       "    }\n",
       "\n",
       "    .dataframe thead th {\n",
       "        text-align: right;\n",
       "    }\n",
       "</style>\n",
       "<table border=\"1\" class=\"dataframe\">\n",
       "  <thead>\n",
       "    <tr style=\"text-align: right;\">\n",
       "      <th></th>\n",
       "      <th>key</th>\n",
       "      <th>Полная мощность</th>\n",
       "      <th>Время нагрева</th>\n",
       "      <th>Вес добавки</th>\n",
       "    </tr>\n",
       "  </thead>\n",
       "  <tbody>\n",
       "    <tr>\n",
       "      <th>0</th>\n",
       "      <td>1</td>\n",
       "      <td>0.305130</td>\n",
       "      <td>0.211253</td>\n",
       "      <td>346.384905</td>\n",
       "    </tr>\n",
       "    <tr>\n",
       "      <th>1</th>\n",
       "      <td>1</td>\n",
       "      <td>0.765658</td>\n",
       "      <td>0.477438</td>\n",
       "      <td>382.505505</td>\n",
       "    </tr>\n",
       "    <tr>\n",
       "      <th>2</th>\n",
       "      <td>1</td>\n",
       "      <td>0.580313</td>\n",
       "      <td>0.430460</td>\n",
       "      <td>407.239422</td>\n",
       "    </tr>\n",
       "    <tr>\n",
       "      <th>3</th>\n",
       "      <td>1</td>\n",
       "      <td>0.518496</td>\n",
       "      <td>0.379979</td>\n",
       "      <td>393.062226</td>\n",
       "    </tr>\n",
       "    <tr>\n",
       "      <th>4</th>\n",
       "      <td>1</td>\n",
       "      <td>0.867133</td>\n",
       "      <td>0.643691</td>\n",
       "      <td>403.623758</td>\n",
       "    </tr>\n",
       "    <tr>\n",
       "      <th>5</th>\n",
       "      <td>2</td>\n",
       "      <td>0.381124</td>\n",
       "      <td>0.220351</td>\n",
       "      <td>386.468753</td>\n",
       "    </tr>\n",
       "    <tr>\n",
       "      <th>6</th>\n",
       "      <td>2</td>\n",
       "      <td>0.261665</td>\n",
       "      <td>0.205527</td>\n",
       "      <td>430.638118</td>\n",
       "    </tr>\n",
       "    <tr>\n",
       "      <th>7</th>\n",
       "      <td>2</td>\n",
       "      <td>0.710297</td>\n",
       "      <td>0.484962</td>\n",
       "      <td>406.129754</td>\n",
       "    </tr>\n",
       "  </tbody>\n",
       "</table>\n",
       "</div>"
      ],
      "text/plain": [
       "   key  Полная мощность  Время нагрева  Вес добавки\n",
       "0    1         0.305130       0.211253   346.384905\n",
       "1    1         0.765658       0.477438   382.505505\n",
       "2    1         0.580313       0.430460   407.239422\n",
       "3    1         0.518496       0.379979   393.062226\n",
       "4    1         0.867133       0.643691   403.623758\n",
       "5    2         0.381124       0.220351   386.468753\n",
       "6    2         0.261665       0.205527   430.638118\n",
       "7    2         0.710297       0.484962   406.129754"
      ]
     },
     "execution_count": 8,
     "metadata": {},
     "output_type": "execute_result"
    }
   ],
   "source": [
    "df1 = pd.read_csv(PATH_OUT + '\\\\qq3_csv.csv',sep=',', encoding='cp1251', skipinitialspace=True)\n",
    "df1.head(8)"
   ]
  },
  {
   "cell_type": "raw",
   "id": "3046ab60",
   "metadata": {},
   "source": [
    "groupby + agg() + corr() + where(lambda ...))"
   ]
  },
  {
   "cell_type": "markdown",
   "id": "8be7172a",
   "metadata": {},
   "source": [
    "### Дополнительно"
   ]
  },
  {
   "cell_type": "code",
   "execution_count": null,
   "id": "7607e10a",
   "metadata": {},
   "outputs": [],
   "source": []
  },
  {
   "cell_type": "markdown",
   "id": "29a3e364",
   "metadata": {},
   "source": [
    "## Задача 3"
   ]
  },
  {
   "cell_type": "markdown",
   "id": "089959ff",
   "metadata": {},
   "source": [
    "1) Перевести название колонок в стандарт PEP8:\n",
    "- перевести в нижний регистр\n",
    "- пробелы между словами заменить на _\n",
    "- язык сохранить - кириллица\n",
    "\n",
    "2) Сформировать датасет из отсортированного в алфавитном порядке списка количественного фактора ингредиент_1 и качественного фактора брак.\n",
    "\n",
    "3) Используя теорию урока, выбрать метод и рассчитать по новому датасету взаимосвязь между данными.\n",
    "\n",
    "4) Результат вывести в виде числа с округлением до четвёртого знака."
   ]
  },
  {
   "cell_type": "code",
   "execution_count": 55,
   "id": "152dc1e3",
   "metadata": {},
   "outputs": [
    {
     "data": {
      "text/html": [
       "<div>\n",
       "<style scoped>\n",
       "    .dataframe tbody tr th:only-of-type {\n",
       "        vertical-align: middle;\n",
       "    }\n",
       "\n",
       "    .dataframe tbody tr th {\n",
       "        vertical-align: top;\n",
       "    }\n",
       "\n",
       "    .dataframe thead th {\n",
       "        text-align: right;\n",
       "    }\n",
       "</style>\n",
       "<table border=\"1\" class=\"dataframe\">\n",
       "  <thead>\n",
       "    <tr style=\"text-align: right;\">\n",
       "      <th></th>\n",
       "      <th>вес</th>\n",
       "      <th>оператор_линии</th>\n",
       "      <th>ингредиент_1</th>\n",
       "      <th>номер_смены</th>\n",
       "      <th>новер_конвейера</th>\n",
       "      <th>ингредиент_2</th>\n",
       "      <th>брак</th>\n",
       "    </tr>\n",
       "  </thead>\n",
       "  <tbody>\n",
       "    <tr>\n",
       "      <th>0</th>\n",
       "      <td>61.7</td>\n",
       "      <td>2</td>\n",
       "      <td>250.9</td>\n",
       "      <td>2</td>\n",
       "      <td>1</td>\n",
       "      <td>6.3</td>\n",
       "      <td>Годен</td>\n",
       "    </tr>\n",
       "    <tr>\n",
       "      <th>1</th>\n",
       "      <td>58.6</td>\n",
       "      <td>2</td>\n",
       "      <td>275.7</td>\n",
       "      <td>1</td>\n",
       "      <td>2</td>\n",
       "      <td>6.7</td>\n",
       "      <td>Брак</td>\n",
       "    </tr>\n",
       "    <tr>\n",
       "      <th>2</th>\n",
       "      <td>53.6</td>\n",
       "      <td>2</td>\n",
       "      <td>280.6</td>\n",
       "      <td>2</td>\n",
       "      <td>1</td>\n",
       "      <td>7.5</td>\n",
       "      <td>Брак</td>\n",
       "    </tr>\n",
       "  </tbody>\n",
       "</table>\n",
       "</div>"
      ],
      "text/plain": [
       "    вес  оператор_линии  ингредиент_1  номер_смены  новер_конвейера  \\\n",
       "0  61.7               2         250.9            2                1   \n",
       "1  58.6               2         275.7            1                2   \n",
       "2  53.6               2         280.6            2                1   \n",
       "\n",
       "   ингредиент_2   брак  \n",
       "0           6.3  Годен  \n",
       "1           6.7   Брак  \n",
       "2           7.5   Брак  "
      ]
     },
     "execution_count": 55,
     "metadata": {},
     "output_type": "execute_result"
    }
   ],
   "source": [
    "df = pd.read_csv(PATH_OUT + '\\\\qq_csv.csv',sep=',', encoding='cp1251', skipinitialspace=True)\n",
    "df.head(3)"
   ]
  },
  {
   "cell_type": "code",
   "execution_count": 56,
   "id": "ab5b8c25",
   "metadata": {},
   "outputs": [
    {
     "name": "stdout",
     "output_type": "stream",
     "text": [
      "0.5297\n"
     ]
    }
   ],
   "source": [
    "\n",
    "\n",
    "\n",
    "def correlation_ratio(categories, values):\n",
    "    fvalue, pvalue = stats.f_oneway(*[values[categories == cat] for cat in categories.unique()])\n",
    "    if np.isnan(fvalue):\n",
    "        return 0.0  # Возвращаем 0, если ANOVA не может быть выполнена\n",
    "    ssb = sum([len(values[categories == cat]) * (np.mean(values[categories == cat]) - np.mean(values))**2 for cat in categories.unique()])\n",
    "    sst = sum((values - np.mean(values))**2)\n",
    "    return ssb / sst\n",
    "print(correlation_ratio(df['брак'], df['ингредиент_1']).round(4))"
   ]
  },
  {
   "cell_type": "code",
   "execution_count": null,
   "id": "35216206",
   "metadata": {},
   "outputs": [],
   "source": []
  },
  {
   "cell_type": "code",
   "execution_count": null,
   "id": "127e5be7",
   "metadata": {},
   "outputs": [],
   "source": []
  },
  {
   "cell_type": "markdown",
   "id": "0fb9bba5",
   "metadata": {},
   "source": [
    "## Задача 4"
   ]
  },
  {
   "cell_type": "markdown",
   "id": "e0cf18fc",
   "metadata": {},
   "source": [
    "1) Сформировать список из количественного фактора вес и качественного фактора брак\n",
    "2) Перевести название колонок в стандарт PEP8:\n",
    "- перевести в нижний регистр\n",
    "- пробелы между словами заменить на _\n",
    "- язык сохранить - кириллица\n",
    "\n",
    "3) Сформировать новый датасет, используя условия отбора :\n",
    "- номер_конвейера = 1\n",
    "- номер_смены = 2\n",
    "\n",
    "4) Сформировать датасет из отсортированного в алфавитном порядке списка количественного фактора вес и качественного фактора брак.\n",
    "5) Используя теорию урока, выбрать метод и рассчитать по новому датасету взаимосвязь между данными в разных шкалах.\n",
    "\n",
    "6) Результат вывести с округлением до четвёртого знака."
   ]
  },
  {
   "cell_type": "code",
   "execution_count": 57,
   "id": "ba9d2870",
   "metadata": {},
   "outputs": [
    {
     "data": {
      "text/html": [
       "<div>\n",
       "<style scoped>\n",
       "    .dataframe tbody tr th:only-of-type {\n",
       "        vertical-align: middle;\n",
       "    }\n",
       "\n",
       "    .dataframe tbody tr th {\n",
       "        vertical-align: top;\n",
       "    }\n",
       "\n",
       "    .dataframe thead th {\n",
       "        text-align: right;\n",
       "    }\n",
       "</style>\n",
       "<table border=\"1\" class=\"dataframe\">\n",
       "  <thead>\n",
       "    <tr style=\"text-align: right;\">\n",
       "      <th></th>\n",
       "      <th>вес</th>\n",
       "      <th>оператор_линии</th>\n",
       "      <th>ингредиент_1</th>\n",
       "      <th>номер_смены</th>\n",
       "      <th>новер_конвейера</th>\n",
       "      <th>ингредиент_2</th>\n",
       "      <th>брак</th>\n",
       "    </tr>\n",
       "  </thead>\n",
       "  <tbody>\n",
       "    <tr>\n",
       "      <th>0</th>\n",
       "      <td>61.7</td>\n",
       "      <td>2</td>\n",
       "      <td>250.9</td>\n",
       "      <td>2</td>\n",
       "      <td>1</td>\n",
       "      <td>6.3</td>\n",
       "      <td>Годен</td>\n",
       "    </tr>\n",
       "    <tr>\n",
       "      <th>1</th>\n",
       "      <td>58.6</td>\n",
       "      <td>2</td>\n",
       "      <td>275.7</td>\n",
       "      <td>1</td>\n",
       "      <td>2</td>\n",
       "      <td>6.7</td>\n",
       "      <td>Брак</td>\n",
       "    </tr>\n",
       "    <tr>\n",
       "      <th>2</th>\n",
       "      <td>53.6</td>\n",
       "      <td>2</td>\n",
       "      <td>280.6</td>\n",
       "      <td>2</td>\n",
       "      <td>1</td>\n",
       "      <td>7.5</td>\n",
       "      <td>Брак</td>\n",
       "    </tr>\n",
       "  </tbody>\n",
       "</table>\n",
       "</div>"
      ],
      "text/plain": [
       "    вес  оператор_линии  ингредиент_1  номер_смены  новер_конвейера  \\\n",
       "0  61.7               2         250.9            2                1   \n",
       "1  58.6               2         275.7            1                2   \n",
       "2  53.6               2         280.6            2                1   \n",
       "\n",
       "   ингредиент_2   брак  \n",
       "0           6.3  Годен  \n",
       "1           6.7   Брак  \n",
       "2           7.5   Брак  "
      ]
     },
     "execution_count": 57,
     "metadata": {},
     "output_type": "execute_result"
    }
   ],
   "source": [
    "df = pd.read_csv(PATH_OUT + '\\\\qq_csv.csv',sep=',', encoding='cp1251', skipinitialspace=True)\n",
    "df.head(3)"
   ]
  },
  {
   "cell_type": "code",
   "execution_count": 59,
   "id": "e0102590",
   "metadata": {},
   "outputs": [
    {
     "name": "stdout",
     "output_type": "stream",
     "text": [
      "0.1774\n"
     ]
    }
   ],
   "source": [
    "\n",
    "\n",
    "def correlation_ratio(categories, values):\n",
    "......\n",
    "\n",
    "\n",
    "print(correlation_ratio(df['брак'], df['вес']).round(4))"
   ]
  },
  {
   "cell_type": "code",
   "execution_count": null,
   "id": "adc24f38",
   "metadata": {},
   "outputs": [],
   "source": []
  },
  {
   "cell_type": "code",
   "execution_count": null,
   "id": "d06923b6",
   "metadata": {},
   "outputs": [],
   "source": []
  },
  {
   "cell_type": "markdown",
   "id": "88a8644b",
   "metadata": {},
   "source": [
    "## Задача 5"
   ]
  },
  {
   "cell_type": "markdown",
   "id": "1a958d9f",
   "metadata": {},
   "source": [
    "1) Сформировать список из количественного фактора вес и качественного фактора брак.\n",
    "2) Перевести название колонок в стандарт PEP8:\n",
    "- перевести в нижний регистр\n",
    "- пробелы между словами заменить на _\n",
    "- язык сохранить - кириллица\n",
    "\n",
    "4) Сформировать новый датасет, используя условия отбора:\n",
    "- ингредиент_1 < 270\n",
    "- номер_смены = 2\n",
    "\n",
    "\n",
    "3) Сформировать датасет из списка качественных факторов: оператор_линии и брак.\n",
    "\n",
    "4) Используя теорию урока, выбрать метод и рассчитать по новому датасету корреляцию для поиска взаимосвязи между данными в одинаковых качественных шкалах.\n",
    "\n",
    "5) Результат вывести в виде числа, с округлением до четвёртого знака."
   ]
  },
  {
   "cell_type": "code",
   "execution_count": 60,
   "id": "80545d4f",
   "metadata": {},
   "outputs": [
    {
     "data": {
      "text/html": [
       "<div>\n",
       "<style scoped>\n",
       "    .dataframe tbody tr th:only-of-type {\n",
       "        vertical-align: middle;\n",
       "    }\n",
       "\n",
       "    .dataframe tbody tr th {\n",
       "        vertical-align: top;\n",
       "    }\n",
       "\n",
       "    .dataframe thead th {\n",
       "        text-align: right;\n",
       "    }\n",
       "</style>\n",
       "<table border=\"1\" class=\"dataframe\">\n",
       "  <thead>\n",
       "    <tr style=\"text-align: right;\">\n",
       "      <th></th>\n",
       "      <th>вес</th>\n",
       "      <th>оператор_линии</th>\n",
       "      <th>ингредиент_1</th>\n",
       "      <th>номер_смены</th>\n",
       "      <th>новер_конвейера</th>\n",
       "      <th>ингредиент_2</th>\n",
       "      <th>брак</th>\n",
       "    </tr>\n",
       "  </thead>\n",
       "  <tbody>\n",
       "    <tr>\n",
       "      <th>0</th>\n",
       "      <td>61.7</td>\n",
       "      <td>2</td>\n",
       "      <td>250.9</td>\n",
       "      <td>2</td>\n",
       "      <td>1</td>\n",
       "      <td>6.3</td>\n",
       "      <td>Годен</td>\n",
       "    </tr>\n",
       "    <tr>\n",
       "      <th>1</th>\n",
       "      <td>58.6</td>\n",
       "      <td>2</td>\n",
       "      <td>275.7</td>\n",
       "      <td>1</td>\n",
       "      <td>2</td>\n",
       "      <td>6.7</td>\n",
       "      <td>Брак</td>\n",
       "    </tr>\n",
       "    <tr>\n",
       "      <th>2</th>\n",
       "      <td>53.6</td>\n",
       "      <td>2</td>\n",
       "      <td>280.6</td>\n",
       "      <td>2</td>\n",
       "      <td>1</td>\n",
       "      <td>7.5</td>\n",
       "      <td>Брак</td>\n",
       "    </tr>\n",
       "  </tbody>\n",
       "</table>\n",
       "</div>"
      ],
      "text/plain": [
       "    вес  оператор_линии  ингредиент_1  номер_смены  новер_конвейера  \\\n",
       "0  61.7               2         250.9            2                1   \n",
       "1  58.6               2         275.7            1                2   \n",
       "2  53.6               2         280.6            2                1   \n",
       "\n",
       "   ингредиент_2   брак  \n",
       "0           6.3  Годен  \n",
       "1           6.7   Брак  \n",
       "2           7.5   Брак  "
      ]
     },
     "execution_count": 60,
     "metadata": {},
     "output_type": "execute_result"
    }
   ],
   "source": [
    "df = pd.read_csv(PATH_OUT + '\\\\qq_csv.csv',sep=',', encoding='cp1251', skipinitialspace=True)\n",
    "df.head(3)"
   ]
  },
  {
   "cell_type": "code",
   "execution_count": 63,
   "id": "cb7f6a90",
   "metadata": {},
   "outputs": [
    {
     "name": "stdout",
     "output_type": "stream",
     "text": [
      "0.2829\n"
     ]
    }
   ],
   "source": [
    "df.columns = df.columns.str.lower().str.replace(' ', '_')\n",
    "\n",
    "....\n",
    "\n",
    "\n",
    "def my_cramers(x, y):\n",
    ".....\n",
    "\n",
    "\n",
    "print(my_cramers(df['брак'], df['оператор_линии']).round(4))"
   ]
  },
  {
   "cell_type": "code",
   "execution_count": null,
   "id": "8817e7e4",
   "metadata": {},
   "outputs": [],
   "source": []
  },
  {
   "cell_type": "code",
   "execution_count": null,
   "id": "4a5d6edb",
   "metadata": {},
   "outputs": [],
   "source": []
  },
  {
   "cell_type": "markdown",
   "id": "a4a6f0e0",
   "metadata": {},
   "source": [
    "## Задача 6"
   ]
  },
  {
   "cell_type": "markdown",
   "id": "47a023a1",
   "metadata": {},
   "source": [
    "1)Загрузить файл, удалить строки с пропущенными значениями\n",
    "2) Перевести название колонок в стандарт PEP8:\n",
    "- перевести в нижний регистр\n",
    "- пробелы между словами заменить на _\n",
    "- язык сохранить кириллица\n",
    "\n",
    "3) На основе фактора ингредиент 1 сформировать новый фактор ингредиент_кат, используя условия:\n",
    "- если менее равно 270, то группа менее_270\n",
    "- если более 270, то группа более_270\n",
    "\n",
    "4) Сформировать новый датасет из нового фактора ингредиент_кат и качественного фактора брак\n",
    "5) Используя теорию урока, выбрать метод и рассчитать по новому датасету корреляцию для поиска взаимосвязи между данными в одинаковых качественных шкалах.\n",
    "\n",
    "6) Результат вывести в виде числа, с округлением до четвёртого знака."
   ]
  },
  {
   "cell_type": "code",
   "execution_count": 64,
   "id": "58f66161",
   "metadata": {},
   "outputs": [
    {
     "data": {
      "text/html": [
       "<div>\n",
       "<style scoped>\n",
       "    .dataframe tbody tr th:only-of-type {\n",
       "        vertical-align: middle;\n",
       "    }\n",
       "\n",
       "    .dataframe tbody tr th {\n",
       "        vertical-align: top;\n",
       "    }\n",
       "\n",
       "    .dataframe thead th {\n",
       "        text-align: right;\n",
       "    }\n",
       "</style>\n",
       "<table border=\"1\" class=\"dataframe\">\n",
       "  <thead>\n",
       "    <tr style=\"text-align: right;\">\n",
       "      <th></th>\n",
       "      <th>вес</th>\n",
       "      <th>оператор_линии</th>\n",
       "      <th>ингредиент_1</th>\n",
       "      <th>номер_смены</th>\n",
       "      <th>новер_конвейера</th>\n",
       "      <th>ингредиент_2</th>\n",
       "      <th>брак</th>\n",
       "    </tr>\n",
       "  </thead>\n",
       "  <tbody>\n",
       "    <tr>\n",
       "      <th>0</th>\n",
       "      <td>61.7</td>\n",
       "      <td>2</td>\n",
       "      <td>250.9</td>\n",
       "      <td>2</td>\n",
       "      <td>1</td>\n",
       "      <td>6.3</td>\n",
       "      <td>Годен</td>\n",
       "    </tr>\n",
       "    <tr>\n",
       "      <th>1</th>\n",
       "      <td>58.6</td>\n",
       "      <td>2</td>\n",
       "      <td>275.7</td>\n",
       "      <td>1</td>\n",
       "      <td>2</td>\n",
       "      <td>6.7</td>\n",
       "      <td>Брак</td>\n",
       "    </tr>\n",
       "    <tr>\n",
       "      <th>2</th>\n",
       "      <td>53.6</td>\n",
       "      <td>2</td>\n",
       "      <td>280.6</td>\n",
       "      <td>2</td>\n",
       "      <td>1</td>\n",
       "      <td>7.5</td>\n",
       "      <td>Брак</td>\n",
       "    </tr>\n",
       "  </tbody>\n",
       "</table>\n",
       "</div>"
      ],
      "text/plain": [
       "    вес  оператор_линии  ингредиент_1  номер_смены  новер_конвейера  \\\n",
       "0  61.7               2         250.9            2                1   \n",
       "1  58.6               2         275.7            1                2   \n",
       "2  53.6               2         280.6            2                1   \n",
       "\n",
       "   ингредиент_2   брак  \n",
       "0           6.3  Годен  \n",
       "1           6.7   Брак  \n",
       "2           7.5   Брак  "
      ]
     },
     "execution_count": 64,
     "metadata": {},
     "output_type": "execute_result"
    }
   ],
   "source": [
    "df = pd.read_csv(PATH_OUT + '\\\\qq_csv.csv',sep=',', encoding='cp1251', skipinitialspace=True)\n",
    "df.head(3)"
   ]
  },
  {
   "cell_type": "code",
   "execution_count": 65,
   "id": "e6487c4e",
   "metadata": {},
   "outputs": [
    {
     "name": "stdout",
     "output_type": "stream",
     "text": [
      "0.4385\n"
     ]
    }
   ],
   "source": [
    "# загрузить данные\n",
    "\n",
    "....\n",
    "\n",
    "\n",
    "def my_cramers(x, y):\n",
    "......\n",
    "\n",
    "print(my_cramers(df['брак'], df['ингредиент_кат']).round(4))"
   ]
  },
  {
   "cell_type": "code",
   "execution_count": null,
   "id": "506487da",
   "metadata": {},
   "outputs": [],
   "source": []
  },
  {
   "cell_type": "code",
   "execution_count": null,
   "id": "5ba51b64",
   "metadata": {},
   "outputs": [],
   "source": []
  },
  {
   "cell_type": "markdown",
   "id": "89ec3ae7",
   "metadata": {},
   "source": [
    "## Задача 7"
   ]
  },
  {
   "cell_type": "raw",
   "id": "a0ec6b69",
   "metadata": {},
   "source": [
    "Необходимо:\n",
    "1) Перевести название колонок в стандарт PEP8:\n",
    "перевести в нижний регистр\n",
    "пробелы между словами заменить на _\n",
    "язык сохранить - кириллица\n",
    "2) Построить график диаграммы рассеяния, используя библиотеку seaborn. При построении учесть:\n",
    "\n",
    "ось ОХ - фактор вес\n",
    "ось OY - фактор, название которого вводится\n",
    "на одном графике построить диаграмму рассеяния для двух групп. Группирующий фактор оператор_линии\n",
    "вывести заголовок диаграммы:\n",
    "Диаграмма рассеяния: Анализ зависимости между факторами.\n",
    "Причём отобразить название на двух строках. Пример ниже на картинке\n",
    "размер шрифт заголовка сделать 16\n",
    "расстояние от заголовка до начала графика сделать равным 1.01\n",
    "остальные настройки графика по цвету, шрифту, отступов - оставить по умолчанию\n",
    "Сохраните диаграмму в файл target_3_7.png.\n",
    "\n",
    "Пример"
   ]
  },
  {
   "cell_type": "markdown",
   "id": "c594581d",
   "metadata": {},
   "source": [
    "df = pd.read_csv(PATH_OUT + '\\\\qq_csv.csv',sep=',', encoding='cp1251', skipinitialspace=True).dropna()\n",
    "df.columns = df.columns.str.lower().str.replace(' ', '_')\n",
    "df"
   ]
  },
  {
   "cell_type": "code",
   "execution_count": null,
   "id": "a5ced691",
   "metadata": {},
   "outputs": [],
   "source": [
    ".....\n",
    "\n",
    "sns.scatterplot(....)\n",
    "plt.suptitle(.....)\n",
    "plt.show()"
   ]
  },
  {
   "cell_type": "code",
   "execution_count": null,
   "id": "95c05310",
   "metadata": {},
   "outputs": [],
   "source": []
  },
  {
   "cell_type": "code",
   "execution_count": null,
   "id": "e0a7555e",
   "metadata": {},
   "outputs": [],
   "source": []
  },
  {
   "cell_type": "code",
   "execution_count": null,
   "id": "113bce29",
   "metadata": {},
   "outputs": [],
   "source": []
  }
 ],
 "metadata": {
  "kernelspec": {
   "display_name": "Python 3 (ipykernel)",
   "language": "python",
   "name": "python3"
  },
  "language_info": {
   "codemirror_mode": {
    "name": "ipython",
    "version": 3
   },
   "file_extension": ".py",
   "mimetype": "text/x-python",
   "name": "python",
   "nbconvert_exporter": "python",
   "pygments_lexer": "ipython3",
   "version": "3.13.1"
  }
 },
 "nbformat": 4,
 "nbformat_minor": 5
}
